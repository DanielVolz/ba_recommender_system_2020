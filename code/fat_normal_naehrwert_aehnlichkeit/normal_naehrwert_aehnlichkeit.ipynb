{
 "cells": [
  {
   "cell_type": "code",
   "execution_count": 1,
   "metadata": {},
   "outputs": [],
   "source": [
    "import json\n",
    "\n",
    "import numpy as np\n",
    "import pandas as pd\n",
    "import pymongo\n",
    "import scipy\n",
    "from bson import ObjectId, json_util\n",
    "from pandas.io.json import json_normalize\n",
    "from pymongo import MongoClient as Connection\n",
    "from scipy import sparse, spatial\n",
    "from scipy.spatial.distance import cdist, pdist, squareform\n",
    "from sklearn.metrics.pairwise import cosine_similarity\n",
    "\n",
    "# scientific notation disabled form smaller numbers\n",
    "pd.options.display.float_format = '{:.5f}'.format\n",
    "\n",
    "# alles resultate anzeigen und nicht nur das letzte\n",
    "from IPython.core.interactiveshell import InteractiveShell\n",
    "InteractiveShell.ast_node_interactivity = \"all\"\n",
    "\n"
   ]
  },
  {
   "cell_type": "code",
   "execution_count": 2,
   "metadata": {},
   "outputs": [
    {
     "output_type": "execute_result",
     "data": {
      "text/plain": "<IPython.core.display.HTML object>",
      "text/html": "<style>\n.output {\n    flex-direction: row;\n}\n</style>"
     },
     "metadata": {},
     "execution_count": 2
    }
   ],
   "source": [
    "# display multiple outputs in one row\n",
    "import pandas as pd\n",
    "import numpy as np\n",
    "from IPython.display import display, HTML\n",
    "\n",
    "CSS = \"\"\"\n",
    ".output {\n",
    "    flex-direction: row;\n",
    "}\n",
    "\"\"\"\n",
    "\n",
    "HTML('<style>{}</style>'.format(CSS))"
   ]
  },
  {
   "cell_type": "code",
   "execution_count": 3,
   "metadata": {},
   "outputs": [],
   "source": [
    "connection = Connection()\n",
    "db = connection.recipe_db\n",
    "input_data = db.recipes_without_reviews\n",
    "\n",
    "data = json.loads(json_util.dumps(input_data.find()))"
   ]
  },
  {
   "cell_type": "code",
   "execution_count": 4,
   "metadata": {},
   "outputs": [],
   "source": [
    "ing = pd.DataFrame(json_normalize(data, record_path='ingredients',\n",
    "                             meta='id', record_prefix='ingredients_', errors='ignore'))\n",
    "\n",
    "\n",
    "nutritions = pd.DataFrame(json_normalize(data, record_path='nutritions',\n",
    "                            meta=['id', 'prep_time', 'rating', 'rating_count', 'ready_in_time', 'review_count']))\n"
   ]
  },
  {
   "cell_type": "code",
   "execution_count": 5,
   "metadata": {},
   "outputs": [],
   "source": [
    "#  ------  erstellung und data cleansing - Ingredients\n",
    "\n",
    "# schmeiss alle zutaten raus, die weniger als 5 mal verwendet werden\n",
    "# setze multiinde auf 'id' und 'ingredients_id'\n",
    "ingredients = ing.set_index(['id', 'ingredients_id'])\n",
    "\n",
    "# filtere alle Zutaten samt ihrer rezepte id, die weniger gleich 5 mal vorkommen\n",
    "ingredients_eqles_5_ing = ingredients.groupby(\n",
    "    'ingredients_id').filter(lambda x: len(x) <= 5)\n",
    "\n",
    "# droppe alle rezepte, die eine Zutate besitzen, die weniger gleich 5 Mal vorkommen\n",
    "ingredients_filt = ingredients.drop(ingredients_eqles_5_ing.index.get_level_values('id').values, level=0)\n",
    "\n",
    "# drop alls rows with ingredients_id == 0\n",
    "ingredients_eqal_zero = ingredients_filt[ingredients_filt.index.get_level_values('ingredients_id') == 0]\n",
    "ingredients_filt = ingredients_filt.drop(ingredients_eqal_zero.index.get_level_values('id').values, level=0)\n"
   ]
  },
  {
   "cell_type": "code",
   "execution_count": 6,
   "metadata": {},
   "outputs": [],
   "source": [
    "#  ------ Erstellung und cleansing des Nutrition Dataframes\n",
    "\n",
    "# erstelle neue liste auf basis der bereits gefilterten rezepte aus ingredients_filt\n",
    "id_overlap_mask = nutritions['id'].isin(ingredients_filt.index.get_level_values('id').values)\n",
    "\n",
    "# erstelle datenframe auf basis der overlapliste\n",
    "nutritions_filt = nutritions.loc[id_overlap_mask]\n",
    "\n",
    "nutrition_db = nutritions_filt.pivot_table(\n",
    "    index=['id'],\n",
    "    columns=['name'],\n",
    "    values=['amount'],\n",
    ").reset_index()\n",
    "\n",
    "nutrition_db.set_index('id', inplace=True)\n",
    "\n",
    "# remove multiindex 'amount'\n",
    "nutrition_db.columns = nutrition_db.columns.droplevel(0)\n",
    "\n",
    "# entferne alle NA\n",
    "nutrition_db = nutrition_db.dropna()\n",
    "\n",
    "# gleiche nochmals die ids der beiden dataframe nutrition und ingredients ab, da der nutrition dataframe noch NA Werte hatt\n",
    "id_overlap_mask = ingredients_filt.index.get_level_values('id').isin(nutrition_db.index)\n",
    "ingredients_db = ingredients_filt[id_overlap_mask]\n",
    "\n",
    "# abgleich ob anzahl der indizes von nutrition und zutaten dataframe gleich sind\n"
   ]
  },
  {
   "cell_type": "code",
   "execution_count": 7,
   "metadata": {},
   "outputs": [],
   "source": [
    "\n",
    "\n",
    "ingredients_db.reset_index(inplace=True)\n",
    "\n",
    "recipe_db = pd.get_dummies(ingredients_db['ingredients_id']).groupby(\n",
    "    ingredients_db['id']).apply(max)\n",
    "\n"
   ]
  },
  {
   "cell_type": "code",
   "execution_count": 8,
   "metadata": {},
   "outputs": [],
   "source": [
    "new_ingredients = ingredients_db.copy()\n",
    "#new_ingredients = new_ingredients.groupby(\"id\")[\"ingredients_grams\"].sum().reset_index()\n",
    "gramms_ingredients = new_ingredients.groupby(\"id\")[\"ingredients_grams\"].sum().reset_index().copy()\n",
    "\n",
    "Q1 = gramms_ingredients.quantile(0.25)\n",
    "Q3 = gramms_ingredients.quantile(0.75)\n",
    "IQR = Q3 - Q1\n",
    "\n",
    "#Filter out all recipes which are outlier by their weight (gramms)\n",
    "df = gramms_ingredients[~((gramms_ingredients < (Q1 - 1.5 * IQR)) |(gramms_ingredients > (Q3 + 1.5 * IQR))).any(axis=1)].copy()\n",
    "\n",
    "#filter out recipes by weight which are not in the range 500 - 2373.59 gramms\n",
    "df_start_at_fivehundret = df[df['ingredients_grams'].between(500, 2373.58225, inclusive=False)].copy()\n",
    "\n",
    "df_start_at_fivehundret.set_index('id', inplace=True)\n",
    "id_overlap_mask = nutritions['id'].isin(df_start_at_fivehundret.index.get_level_values('id').values)\n",
    "\n",
    "\n",
    "# erstelle datenframe auf basis der overlapliste\n",
    "nutritions_filt_gramm = nutritions.loc[id_overlap_mask]\n",
    "\n",
    "nutrition_db2 = nutritions_filt_gramm.pivot_table(\n",
    "    index=['id'],\n",
    "    columns=['name'],\n",
    "    values=['amount'],\n",
    ").reset_index()\n",
    "\n",
    "#create new nutrition db based on the above filtering\n",
    "nutrition_db2.set_index('id', inplace=True)\n",
    "nutrition_db2.columns = nutrition_db2.columns.droplevel(0)\n",
    "\n"
   ]
  },
  {
   "cell_type": "code",
   "execution_count": 9,
   "metadata": {},
   "outputs": [
    {
     "output_type": "execute_result",
     "data": {
      "text/plain": "array([ 54501, 214733,  11710,   8691, 215285, 220130,  25150, 159188,\n        57532,  87421])"
     },
     "metadata": {},
     "execution_count": 9
    }
   ],
   "source": [
    "# random\n",
    "subset_random_top10 = nutrition_db2.sample(n=10).copy()\n",
    "subset_random_top10.index.to_numpy()\n"
   ]
  },
  {
   "cell_type": "code",
   "execution_count": 10,
   "metadata": {},
   "outputs": [],
   "source": [
    "erg_2_normal_10_naiv = [223156, 191199, 107586,  14526, 231381,  48546,  57716,  24743, 233975, 9025]"
   ]
  },
  {
   "cell_type": "code",
   "execution_count": 11,
   "metadata": {},
   "outputs": [],
   "source": [
    "\n",
    "subset_normal_id = erg_2_normal_10_naiv"
   ]
  },
  {
   "cell_type": "code",
   "execution_count": 12,
   "metadata": {},
   "outputs": [],
   "source": [
    "# remove recipes which are missing in nutrition df from the ingredients tecipes dataframe\n",
    "mask = recipe_db.index.isin(nutrition_db2.index.values)\n",
    "recipe_db = recipe_db.loc[mask]\n"
   ]
  },
  {
   "cell_type": "code",
   "execution_count": 13,
   "metadata": {},
   "outputs": [],
   "source": [
    "user_recipes_normal = recipe_db[recipe_db.index.isin(subset_normal_id)]"
   ]
  },
  {
   "cell_type": "code",
   "execution_count": 14,
   "metadata": {},
   "outputs": [],
   "source": [
    "#top10 most common ingredients\n",
    "#16421    2125 salt\n",
    "#4342     1506 garlic\n",
    "#4397     1412 onion\n",
    "#16406    1185 ground black pepper\n",
    "#16157    1016 butter\n",
    "#6307      944 olive oil\n",
    "#6494      786 skinless bone less chicken breast\n",
    "#2496      749 water\n",
    "#16238     574 grated Parmesan cheese\n",
    "#16317     538 eggs\n",
    "\n",
    "\n",
    "drop_id_list = [16421, 4342, 4397, 16406, 16157, 6307, 6494, 2496, 16238, 16317]\n",
    "\n",
    "\n",
    "\n"
   ]
  },
  {
   "cell_type": "code",
   "execution_count": 15,
   "metadata": {},
   "outputs": [],
   "source": [
    "#filter out ingredients which are too common and the recipes in the user profile from the recipes database\n",
    "new_recipe_db = recipe_db.drop(axis=1, labels=drop_id_list)\n",
    "\n",
    "\n",
    "new_recipe_db_wo_userrecipes_normal = new_recipe_db.drop(axis=0, labels=subset_normal_id)\n"
   ]
  },
  {
   "cell_type": "code",
   "execution_count": 16,
   "metadata": {},
   "outputs": [],
   "source": [
    "#remove basic ingredients like garlic, olive oil, skinless bone less chicken breast, butter, milk, salt and pepper, onion\n",
    "new_user_recipes_normal = user_recipes_normal.drop(axis=1, labels=drop_id_list)"
   ]
  },
  {
   "cell_type": "code",
   "execution_count": 17,
   "metadata": {},
   "outputs": [],
   "source": [
    "sample_normal = new_user_recipes_normal.sample(n=10).copy()"
   ]
  },
  {
   "cell_type": "code",
   "execution_count": 18,
   "metadata": {},
   "outputs": [],
   "source": [
    "## Jaccard - normal\n",
    "\n",
    "result_array = cdist(sample_normal, new_recipe_db_wo_userrecipes_normal,'jaccard')\n",
    "result_w_filter_normal = pd.DataFrame(result_array, columns=new_recipe_db_wo_userrecipes_normal.index.values, index=sample_normal.index.values)\n",
    "# result_2\n",
    "\n",
    "result_w_filter_10_normal = pd.DataFrame(result_w_filter_normal.sum(), columns=['jaccard_distance_sum'])\n",
    "result_w_filter_10_normal = result_w_filter_10_normal.sort_values(by='jaccard_distance_sum')\n",
    "result_w_filter_10_normal['jaccard_distance_sum'] = result_w_filter_10_normal['jaccard_distance_sum'].div(10)\n",
    "#result_w_filter_10_normal[0:10]\n"
   ]
  },
  {
   "cell_type": "code",
   "execution_count": 19,
   "metadata": {},
   "outputs": [],
   "source": [
    "#create one dimensional ingredients vector from user recipes profile\n",
    "user_one_vector_normal = sample_normal.copy()\n",
    "user_one_vector_normal.loc['sum',:]= user_one_vector_normal.sum(axis=0)\n",
    "user_one_vector_normal = user_one_vector_normal.drop(axis=0, labels=sample_normal.index)\n",
    "user_one_vector_normal[user_one_vector_normal > 0] = 1"
   ]
  },
  {
   "cell_type": "code",
   "execution_count": 20,
   "metadata": {},
   "outputs": [],
   "source": [
    "#user_one_vector_normal\n",
    "#user_one_vector_normal.apply(pd.value_counts).count(axis=1)"
   ]
  },
  {
   "cell_type": "code",
   "execution_count": 21,
   "metadata": {},
   "outputs": [],
   "source": [
    "## Jaccard - Vector normal top 10\n",
    "\n",
    "result_array = cdist(user_one_vector_normal, new_recipe_db_wo_userrecipes_normal,'jaccard')\n",
    "result_w_filter_vector_normal = pd.DataFrame(result_array, columns=new_recipe_db_wo_userrecipes_normal.index.values, index=user_one_vector_normal.index.values)\n",
    "\n",
    "\n",
    "result_w_filter_vector_10_normal = pd.DataFrame(result_w_filter_vector_normal.sum(), columns=['jaccard_distance_sum'])\n",
    "result_w_filter_vector_10_normal = result_w_filter_vector_10_normal.sort_values(by='jaccard_distance_sum')\n",
    "\n",
    "#result_w_filter_vector_10_normal[0:10]\n"
   ]
  },
  {
   "cell_type": "code",
   "execution_count": 22,
   "metadata": {},
   "outputs": [],
   "source": [
    "#result_w_filter_vector_10_normal[0:10].index.to_numpy()"
   ]
  },
  {
   "cell_type": "code",
   "execution_count": 23,
   "metadata": {},
   "outputs": [],
   "source": [
    "####### results"
   ]
  },
  {
   "cell_type": "code",
   "execution_count": null,
   "metadata": {},
   "outputs": [],
   "source": []
  },
  {
   "cell_type": "code",
   "execution_count": null,
   "metadata": {},
   "outputs": [],
   "source": []
  },
  {
   "cell_type": "code",
   "execution_count": 24,
   "metadata": {},
   "outputs": [
    {
     "output_type": "execute_result",
     "data": {
      "text/plain": "array([191199,  14526, 233975,  24743, 107586, 223156,   9025, 231381,\n        48546,  57716])"
     },
     "metadata": {},
     "execution_count": 24
    }
   ],
   "source": [
    "# userrecipes normal\n",
    "sample_normal.index.to_numpy()"
   ]
  },
  {
   "cell_type": "code",
   "execution_count": 25,
   "metadata": {},
   "outputs": [
    {
     "output_type": "execute_result",
     "data": {
      "text/plain": "array([143082, 201849, 241165,  20415,  40574, 141716, 162807, 240708,\n       191156,  16862])"
     },
     "metadata": {},
     "execution_count": 25
    }
   ],
   "source": [
    "###### jaccard normal top 10 naiv\n",
    "result_w_filter_10_normal[0:10].index.to_numpy()"
   ]
  },
  {
   "cell_type": "code",
   "execution_count": 26,
   "metadata": {},
   "outputs": [
    {
     "output_type": "execute_result",
     "data": {
      "text/plain": "array([237807, 223101,  51039, 191156, 231230, 223100, 240708, 241601,\n        77515,  20415])"
     },
     "metadata": {},
     "execution_count": 26
    }
   ],
   "source": [
    "###### jaccard vector normal top 10\n",
    "result_w_filter_vector_10_normal[0:10].index.to_numpy()"
   ]
  },
  {
   "cell_type": "code",
   "execution_count": 27,
   "metadata": {},
   "outputs": [
    {
     "output_type": "execute_result",
     "data": {
      "text/plain": "array([ 54501, 214733,  11710,   8691, 215285, 220130,  25150, 159188,\n        57532,  87421])"
     },
     "metadata": {},
     "execution_count": 27
    }
   ],
   "source": [
    "##### random top 10\n",
    "subset_random_top10.index.to_numpy()"
   ]
  },
  {
   "cell_type": "code",
   "execution_count": null,
   "metadata": {},
   "outputs": [],
   "source": []
  },
  {
   "cell_type": "code",
   "execution_count": 28,
   "metadata": {},
   "outputs": [
    {
     "output_type": "execute_result",
     "data": {
      "text/plain": "name     Calcium   Calories  Calories from Fat  Carbohydrates  Cholesterol  \\\ncount 3770.00000 3770.00000         3770.00000     3770.00000   3770.00000   \nmean   147.62368  437.40977          206.09237       29.13842     97.12707   \nstd    159.99250  183.07685          125.83504       22.82480     60.47892   \nmin      2.24700   51.34326            1.32300        0.00000      0.00000   \n25%     41.89560  302.98010          116.53312       10.22884     60.39150   \n50%     83.16640  407.19045          182.75790       24.78570     85.15604   \n75%    193.59578  541.44173          271.86345       43.25593    126.76047   \nmax   1264.32600 1828.19200          989.10300      236.72050    708.85000   \n\nname   Dietary Fiber        Fat     Folate       Iron  Magnesium  \\\ncount     3770.00000 3770.00000 3770.00000 3770.00000 3770.00000   \nmean         2.59778   22.89915   60.51086    3.15299   51.41984   \nstd          2.50979   13.98167   59.87557    2.44330   29.10865   \nmin          0.00000    0.14700    0.00000    0.19784    0.99745   \n25%          0.74548   12.94812   15.88195    1.81476   33.22880   \n50%          1.94681   20.30644   38.70213    2.76656   45.93100   \n75%          3.66756   30.20705   88.07055    3.93232   63.26032   \nmax         27.83175  109.90030  519.53590   55.89075  590.39220   \n\nname   Niacin Equivalents  Potassium    Protein  Saturated Fat     Sodium  \\\ncount          3770.00000 3770.00000 3770.00000     3770.00000 3770.00000   \nmean             12.44257  532.01939   28.05297        8.74708  851.17479   \nstd               6.89345  267.47451   12.01118        6.79965  643.53732   \nmin               0.03511   21.35641    0.75050        0.01992    5.20206   \n25%               7.40300  345.45530   19.97516        3.62944  418.67972   \n50%              11.15695  480.73480   26.86586        7.16939  734.11100   \n75%              16.56040  654.20570   34.31604       12.13675 1092.85675   \nmax              47.57578 1931.48800   99.72639       59.31002 7322.28900   \n\nname      Sugars    Thiamin  Vitamin A - IU  Vitamin B6  Vitamin C  \ncount 3770.00000 3770.00000      3770.00000  3770.00000 3770.00000  \nmean     6.72738    0.30421      1168.79318     0.50982   16.28622  \nstd      8.81384    0.30164      2321.84247     0.31210   24.35803  \nmin      0.00000    0.00055         0.00000     0.00497    0.00000  \n25%      1.76526    0.10510       236.94223     0.28412    2.15411  \n50%      3.90747    0.19759       581.03190     0.44613    6.66003  \n75%      7.83992    0.39693      1113.54200     0.68317   19.56792  \nmax    104.81810    2.35457     38664.70000     3.83736  270.41310  ",
      "text/html": "<div>\n<style scoped>\n    .dataframe tbody tr th:only-of-type {\n        vertical-align: middle;\n    }\n\n    .dataframe tbody tr th {\n        vertical-align: top;\n    }\n\n    .dataframe thead th {\n        text-align: right;\n    }\n</style>\n<table border=\"1\" class=\"dataframe\">\n  <thead>\n    <tr style=\"text-align: right;\">\n      <th>name</th>\n      <th>Calcium</th>\n      <th>Calories</th>\n      <th>Calories from Fat</th>\n      <th>Carbohydrates</th>\n      <th>Cholesterol</th>\n      <th>Dietary Fiber</th>\n      <th>Fat</th>\n      <th>Folate</th>\n      <th>Iron</th>\n      <th>Magnesium</th>\n      <th>Niacin Equivalents</th>\n      <th>Potassium</th>\n      <th>Protein</th>\n      <th>Saturated Fat</th>\n      <th>Sodium</th>\n      <th>Sugars</th>\n      <th>Thiamin</th>\n      <th>Vitamin A - IU</th>\n      <th>Vitamin B6</th>\n      <th>Vitamin C</th>\n    </tr>\n  </thead>\n  <tbody>\n    <tr>\n      <td>count</td>\n      <td>3770.00000</td>\n      <td>3770.00000</td>\n      <td>3770.00000</td>\n      <td>3770.00000</td>\n      <td>3770.00000</td>\n      <td>3770.00000</td>\n      <td>3770.00000</td>\n      <td>3770.00000</td>\n      <td>3770.00000</td>\n      <td>3770.00000</td>\n      <td>3770.00000</td>\n      <td>3770.00000</td>\n      <td>3770.00000</td>\n      <td>3770.00000</td>\n      <td>3770.00000</td>\n      <td>3770.00000</td>\n      <td>3770.00000</td>\n      <td>3770.00000</td>\n      <td>3770.00000</td>\n      <td>3770.00000</td>\n    </tr>\n    <tr>\n      <td>mean</td>\n      <td>147.62368</td>\n      <td>437.40977</td>\n      <td>206.09237</td>\n      <td>29.13842</td>\n      <td>97.12707</td>\n      <td>2.59778</td>\n      <td>22.89915</td>\n      <td>60.51086</td>\n      <td>3.15299</td>\n      <td>51.41984</td>\n      <td>12.44257</td>\n      <td>532.01939</td>\n      <td>28.05297</td>\n      <td>8.74708</td>\n      <td>851.17479</td>\n      <td>6.72738</td>\n      <td>0.30421</td>\n      <td>1168.79318</td>\n      <td>0.50982</td>\n      <td>16.28622</td>\n    </tr>\n    <tr>\n      <td>std</td>\n      <td>159.99250</td>\n      <td>183.07685</td>\n      <td>125.83504</td>\n      <td>22.82480</td>\n      <td>60.47892</td>\n      <td>2.50979</td>\n      <td>13.98167</td>\n      <td>59.87557</td>\n      <td>2.44330</td>\n      <td>29.10865</td>\n      <td>6.89345</td>\n      <td>267.47451</td>\n      <td>12.01118</td>\n      <td>6.79965</td>\n      <td>643.53732</td>\n      <td>8.81384</td>\n      <td>0.30164</td>\n      <td>2321.84247</td>\n      <td>0.31210</td>\n      <td>24.35803</td>\n    </tr>\n    <tr>\n      <td>min</td>\n      <td>2.24700</td>\n      <td>51.34326</td>\n      <td>1.32300</td>\n      <td>0.00000</td>\n      <td>0.00000</td>\n      <td>0.00000</td>\n      <td>0.14700</td>\n      <td>0.00000</td>\n      <td>0.19784</td>\n      <td>0.99745</td>\n      <td>0.03511</td>\n      <td>21.35641</td>\n      <td>0.75050</td>\n      <td>0.01992</td>\n      <td>5.20206</td>\n      <td>0.00000</td>\n      <td>0.00055</td>\n      <td>0.00000</td>\n      <td>0.00497</td>\n      <td>0.00000</td>\n    </tr>\n    <tr>\n      <td>25%</td>\n      <td>41.89560</td>\n      <td>302.98010</td>\n      <td>116.53312</td>\n      <td>10.22884</td>\n      <td>60.39150</td>\n      <td>0.74548</td>\n      <td>12.94812</td>\n      <td>15.88195</td>\n      <td>1.81476</td>\n      <td>33.22880</td>\n      <td>7.40300</td>\n      <td>345.45530</td>\n      <td>19.97516</td>\n      <td>3.62944</td>\n      <td>418.67972</td>\n      <td>1.76526</td>\n      <td>0.10510</td>\n      <td>236.94223</td>\n      <td>0.28412</td>\n      <td>2.15411</td>\n    </tr>\n    <tr>\n      <td>50%</td>\n      <td>83.16640</td>\n      <td>407.19045</td>\n      <td>182.75790</td>\n      <td>24.78570</td>\n      <td>85.15604</td>\n      <td>1.94681</td>\n      <td>20.30644</td>\n      <td>38.70213</td>\n      <td>2.76656</td>\n      <td>45.93100</td>\n      <td>11.15695</td>\n      <td>480.73480</td>\n      <td>26.86586</td>\n      <td>7.16939</td>\n      <td>734.11100</td>\n      <td>3.90747</td>\n      <td>0.19759</td>\n      <td>581.03190</td>\n      <td>0.44613</td>\n      <td>6.66003</td>\n    </tr>\n    <tr>\n      <td>75%</td>\n      <td>193.59578</td>\n      <td>541.44173</td>\n      <td>271.86345</td>\n      <td>43.25593</td>\n      <td>126.76047</td>\n      <td>3.66756</td>\n      <td>30.20705</td>\n      <td>88.07055</td>\n      <td>3.93232</td>\n      <td>63.26032</td>\n      <td>16.56040</td>\n      <td>654.20570</td>\n      <td>34.31604</td>\n      <td>12.13675</td>\n      <td>1092.85675</td>\n      <td>7.83992</td>\n      <td>0.39693</td>\n      <td>1113.54200</td>\n      <td>0.68317</td>\n      <td>19.56792</td>\n    </tr>\n    <tr>\n      <td>max</td>\n      <td>1264.32600</td>\n      <td>1828.19200</td>\n      <td>989.10300</td>\n      <td>236.72050</td>\n      <td>708.85000</td>\n      <td>27.83175</td>\n      <td>109.90030</td>\n      <td>519.53590</td>\n      <td>55.89075</td>\n      <td>590.39220</td>\n      <td>47.57578</td>\n      <td>1931.48800</td>\n      <td>99.72639</td>\n      <td>59.31002</td>\n      <td>7322.28900</td>\n      <td>104.81810</td>\n      <td>2.35457</td>\n      <td>38664.70000</td>\n      <td>3.83736</td>\n      <td>270.41310</td>\n    </tr>\n  </tbody>\n</table>\n</div>"
     },
     "metadata": {},
     "execution_count": 28
    }
   ],
   "source": [
    "nutrition_db2.describe()"
   ]
  },
  {
   "cell_type": "code",
   "execution_count": 29,
   "metadata": {},
   "outputs": [],
   "source": [
    "#https://www.ncbi.nlm.nih.gov/books/NBK56068/table/summarytables.t4/?report=objectonly\n",
    "#https://www.ncbi.nlm.nih.gov/books/NBK56068/table/summarytables.t1/?report=objectonly\n",
    "#https://www.ncbi.nlm.nih.gov/books/NBK56068/table/summarytables.t5/?report=objectonly\n",
    "#männer alter 31 - 50 pro tag geteil durch 3 mahlzeiten\n",
    "#angepasst an einen keto (low/carb) dietplan https://www.healthline.com/nutrition/keto-diet-meal-plan-and-menu#bottom-line\n",
    "\n",
    "\n",
    "recommenden_nut_low_carb = pd.DataFrame(data=None, columns=nutrition_db2.columns, index=None)\n",
    "\n",
    "\n",
    "recommenden_nut_low_carb.loc['index'] = [\n",
    "    # \"Calcium\":[1],\n",
    "    266.67,\n",
    "    # \"Calories\":[1],\n",
    "    716,\n",
    "    # \"Calories from Fat\":[1],\n",
    "    0,\n",
    "    # \"Carbohydrates\":[1],\n",
    "    10,\n",
    "    # \"Cholesterol\":[1],\n",
    "    0,\n",
    "    # \"Dietary Fiber\t\":[1],\n",
    "    12.67,\n",
    "    # \"Fat\":[1],16.67,\n",
    "    41.3,\n",
    "    # \"Folate\":[1],\n",
    "    133.3, \n",
    "    # \"Iron\":[1],\n",
    "    2,\n",
    "    # \"Magnesium\":[1],\n",
    "    116.67, \n",
    "    # \"Niacin Equivalents\":[1],\n",
    "    4,\n",
    "    # \"Potassium\":[1],\n",
    "    1,\n",
    "    # \"Protein\":[1],\n",
    "    53.3,\n",
    "    # \"Saturated Fat\":[1],\n",
    "    1,\n",
    "    # \"Sodium\":[1],\n",
    "    1,\n",
    "    # \"Sugars\":[1],\n",
    "    1,\n",
    "    # \"Thiamin\":[1],\n",
    "    0.3, \n",
    "    # \"Vitamin A - IU\":[1],\n",
    "    208, \n",
    "    # \"Vitamin B6\":[1],\n",
    "    0.36, \n",
    "    # \"Vitamin C\":[1]}\n",
    "    25] "
   ]
  },
  {
   "cell_type": "code",
   "execution_count": 130,
   "metadata": {},
   "outputs": [],
   "source": [
    "no_weight = [\n",
    "    # \"Calcium\":[1],\n",
    "    1,\n",
    "    # \"Calories\":[1],\n",
    "    1,\n",
    "    # \"Calories from Fat\":[1],\n",
    "    1,\n",
    "    # \"Carbohydrates\":[1],\n",
    "    1,\n",
    "    # \"Cholesterol\":[1],\n",
    "    1,\n",
    "    # \"Dietary Fiber\t\":[1],\n",
    "    1,\n",
    "    # \"Fat\":[1],\n",
    "    1,\n",
    "    # \"Folate\":[1],\n",
    "    1,\n",
    "    # \"Iron\":[1],\n",
    "    1,\n",
    "    # \"Magnesium\":[1],\n",
    "    1,\n",
    "    # \"Niacin Equivalents\":[1],\n",
    "    1,\n",
    "    # \"Potassium\":[1],\n",
    "    1,\n",
    "    # \"Protein\":[1],\n",
    "    1,\n",
    "    # \"Saturated Fat\":[1],\n",
    "    1,\n",
    "    # \"Sodium\":[1],\n",
    "    1,\n",
    "    # \"Sugars\":[1],\n",
    "    1,\n",
    "    # \"Thiamin\":[1],\n",
    "    1,\n",
    "    # \"Vitamin A - IU\":[1],\n",
    "    1,\n",
    "    # \"Vitamin B6\":[1],\n",
    "    1,\n",
    "    # \"Vitamin C\":[1]}\n",
    "    1]\n",
    "\n",
    "weighted_carbs = [\n",
    "    # \"Calcium\":[1],\n",
    "    1,\n",
    "    # \"Calories\":[1],\n",
    "    10,\n",
    "    # \"Calories from Fat\":[1],\n",
    "    1,\n",
    "    # \"Carbohydrates\":[1],\n",
    "    1000,\n",
    "    # \"Cholesterol\":[1],\n",
    "    1,\n",
    "    # \"Dietary Fiber\t\":[1],\n",
    "    1,\n",
    "    # \"Fat\":[1],\n",
    "    10,\n",
    "    # \"Folate\":[1],\n",
    "    1,\n",
    "    # \"Iron\":[1],\n",
    "    1,\n",
    "    # \"Magnesium\":[1],\n",
    "    1,\n",
    "    # \"Niacin Equivalents\":[1],\n",
    "    1,\n",
    "    # \"Potassium\":[1],\n",
    "    1,\n",
    "    # \"Protein\":[1],\n",
    "    10,\n",
    "    # \"Saturated Fat\":[1],\n",
    "    1,\n",
    "    # \"Sodium\":[1],\n",
    "    1,\n",
    "    # \"Sugars\":[1],\n",
    "    1,\n",
    "    # \"Thiamin\":[1],\n",
    "    1,\n",
    "    # \"Vitamin A - IU\":[1],\n",
    "    1,\n",
    "    # \"Vitamin B6\":[1],\n",
    "    1,\n",
    "    # \"Vitamin C\":[1]}\n",
    "    1]\n",
    "\n"
   ]
  },
  {
   "cell_type": "code",
   "execution_count": 241,
   "metadata": {},
   "outputs": [],
   "source": [
    "result_w_filter_normal_100 = result_w_filter_10_normal[0:500].copy()\n",
    "result_w_filter_normal_100['pos'] = np.arange(len(result_w_filter_normal_100))\n",
    "result_w_filter_normal_100 = result_w_filter_normal_100.reset_index()\n",
    "result_w_filter_normal_100 = result_w_filter_normal_100.set_index('index')"
   ]
  },
  {
   "cell_type": "code",
   "execution_count": 242,
   "metadata": {},
   "outputs": [],
   "source": [
    "nutrition_normal_naiv = nutrition_db2[nutrition_db2.index.isin(result_w_filter_normal_100.index.to_numpy())]"
   ]
  },
  {
   "cell_type": "code",
   "execution_count": 243,
   "metadata": {},
   "outputs": [
    {
     "output_type": "execute_result",
     "data": {
      "text/plain": "        euclid_distance_sum\n87421             832.56767\n166292            921.11950\n83792             925.04992\n152156            937.06198\n15395             985.29412\n15005            1005.36882\n107487           1010.00295\n21752            1092.24503\n150292           1106.26659\n25475            1154.24545",
      "text/html": "<div>\n<style scoped>\n    .dataframe tbody tr th:only-of-type {\n        vertical-align: middle;\n    }\n\n    .dataframe tbody tr th {\n        vertical-align: top;\n    }\n\n    .dataframe thead th {\n        text-align: right;\n    }\n</style>\n<table border=\"1\" class=\"dataframe\">\n  <thead>\n    <tr style=\"text-align: right;\">\n      <th></th>\n      <th>euclid_distance_sum</th>\n    </tr>\n  </thead>\n  <tbody>\n    <tr>\n      <td>87421</td>\n      <td>832.56767</td>\n    </tr>\n    <tr>\n      <td>166292</td>\n      <td>921.11950</td>\n    </tr>\n    <tr>\n      <td>83792</td>\n      <td>925.04992</td>\n    </tr>\n    <tr>\n      <td>152156</td>\n      <td>937.06198</td>\n    </tr>\n    <tr>\n      <td>15395</td>\n      <td>985.29412</td>\n    </tr>\n    <tr>\n      <td>15005</td>\n      <td>1005.36882</td>\n    </tr>\n    <tr>\n      <td>107487</td>\n      <td>1010.00295</td>\n    </tr>\n    <tr>\n      <td>21752</td>\n      <td>1092.24503</td>\n    </tr>\n    <tr>\n      <td>150292</td>\n      <td>1106.26659</td>\n    </tr>\n    <tr>\n      <td>25475</td>\n      <td>1154.24545</td>\n    </tr>\n  </tbody>\n</table>\n</div>"
     },
     "metadata": {},
     "execution_count": 243
    }
   ],
   "source": [
    "# euklidische distanz für nährwerte\n",
    "\n",
    "result_array = cdist(recommenden_nut_low_carb, nutrition_normal_naiv, 'minkowski', p=2, w=weighted_carbs)\n",
    "euclid_distance = pd.DataFrame(\n",
    "    result_array, columns=nutrition_normal_naiv.index.values, index=recommenden_nut_low_carb.index.values)\n",
    "\n",
    "euclid_distance_sum_normal_naiv = pd.DataFrame(euclid_distance.sum(), columns=['euclid_distance_sum'])\n",
    "euclid_distance_sum_normal_naiv = euclid_distance_sum_normal_naiv.sort_values(by='euclid_distance_sum')\n",
    "euclid_distance_sum_normal_naiv[0:10]"
   ]
  },
  {
   "cell_type": "code",
   "execution_count": 244,
   "metadata": {},
   "outputs": [],
   "source": [
    "jaccard_euclid_joined_normal_naiv = pd.merge(euclid_distance_sum_normal_naiv, result_w_filter_normal_100, left_index=True, right_index=True)"
   ]
  },
  {
   "cell_type": "code",
   "execution_count": 245,
   "metadata": {},
   "outputs": [
    {
     "output_type": "execute_result",
     "data": {
      "text/plain": "        euclid_distance_sum  jaccard_distance_sum  pos\n87421             832.56767               0.95482  488\n166292            921.11950               0.94134  393\n83792             925.04992               0.89534  140\n152156            937.06198               0.91147  221\n15395             985.29412               0.95488  490\n15005            1005.36882               0.87729   65\n107487           1010.00295               0.94591  421\n21752            1092.24503               0.94579  417\n150292           1106.26659               0.93069  340\n25475            1154.24545               0.92901  327",
      "text/html": "<div>\n<style scoped>\n    .dataframe tbody tr th:only-of-type {\n        vertical-align: middle;\n    }\n\n    .dataframe tbody tr th {\n        vertical-align: top;\n    }\n\n    .dataframe thead th {\n        text-align: right;\n    }\n</style>\n<table border=\"1\" class=\"dataframe\">\n  <thead>\n    <tr style=\"text-align: right;\">\n      <th></th>\n      <th>euclid_distance_sum</th>\n      <th>jaccard_distance_sum</th>\n      <th>pos</th>\n    </tr>\n  </thead>\n  <tbody>\n    <tr>\n      <td>87421</td>\n      <td>832.56767</td>\n      <td>0.95482</td>\n      <td>488</td>\n    </tr>\n    <tr>\n      <td>166292</td>\n      <td>921.11950</td>\n      <td>0.94134</td>\n      <td>393</td>\n    </tr>\n    <tr>\n      <td>83792</td>\n      <td>925.04992</td>\n      <td>0.89534</td>\n      <td>140</td>\n    </tr>\n    <tr>\n      <td>152156</td>\n      <td>937.06198</td>\n      <td>0.91147</td>\n      <td>221</td>\n    </tr>\n    <tr>\n      <td>15395</td>\n      <td>985.29412</td>\n      <td>0.95488</td>\n      <td>490</td>\n    </tr>\n    <tr>\n      <td>15005</td>\n      <td>1005.36882</td>\n      <td>0.87729</td>\n      <td>65</td>\n    </tr>\n    <tr>\n      <td>107487</td>\n      <td>1010.00295</td>\n      <td>0.94591</td>\n      <td>421</td>\n    </tr>\n    <tr>\n      <td>21752</td>\n      <td>1092.24503</td>\n      <td>0.94579</td>\n      <td>417</td>\n    </tr>\n    <tr>\n      <td>150292</td>\n      <td>1106.26659</td>\n      <td>0.93069</td>\n      <td>340</td>\n    </tr>\n    <tr>\n      <td>25475</td>\n      <td>1154.24545</td>\n      <td>0.92901</td>\n      <td>327</td>\n    </tr>\n  </tbody>\n</table>\n</div>"
     },
     "metadata": {},
     "execution_count": 245
    }
   ],
   "source": [
    "jaccard_euclid_joined_normal_naiv[0:10]"
   ]
  },
  {
   "cell_type": "code",
   "execution_count": 246,
   "metadata": {},
   "outputs": [],
   "source": [
    "nutrition_top10_normal_naiv = nutrition_db2[nutrition_db2.index.isin(jaccard_euclid_joined_normal_naiv[0:10].index.to_numpy())]"
   ]
  },
  {
   "cell_type": "code",
   "execution_count": 247,
   "metadata": {},
   "outputs": [
    {
     "output_type": "execute_result",
     "data": {
      "text/plain": "name   Calories      Fat  Protein  Carbohydrates  Dietary Fiber     Iron  \\\ncount  10.00000 10.00000 10.00000       10.00000       10.00000 10.00000   \nmean  593.49335 43.66549 36.49309       10.57661        0.54316  2.16690   \nstd    59.98479 11.32938 11.34957        6.51885        0.51290  1.06616   \nmin   514.51740 29.74562 14.67175        1.95229        0.00000  0.59953   \n25%   563.72928 40.36646 32.43579        7.74047        0.18195  1.31123   \n50%   572.76435 40.73643 38.89960        9.12031        0.33888  2.30381   \n75%   611.76150 44.27074 43.73848       11.94262        0.95037  2.96299   \nmax   726.85720 71.04302 51.30702       27.00220        1.32867  3.78598   \n\nname   Calcium  Magnesium  \ncount 10.00000   10.00000  \nmean  41.57485   37.28615  \nstd   22.77249   17.53916  \nmin   17.25907    7.52194  \n25%   25.73577   22.45584  \n50%   35.67709   41.11308  \n75%   45.03080   48.91684  \nmax   88.56937   59.62160  ",
      "text/html": "<div>\n<style scoped>\n    .dataframe tbody tr th:only-of-type {\n        vertical-align: middle;\n    }\n\n    .dataframe tbody tr th {\n        vertical-align: top;\n    }\n\n    .dataframe thead th {\n        text-align: right;\n    }\n</style>\n<table border=\"1\" class=\"dataframe\">\n  <thead>\n    <tr style=\"text-align: right;\">\n      <th>name</th>\n      <th>Calories</th>\n      <th>Fat</th>\n      <th>Protein</th>\n      <th>Carbohydrates</th>\n      <th>Dietary Fiber</th>\n      <th>Iron</th>\n      <th>Calcium</th>\n      <th>Magnesium</th>\n    </tr>\n  </thead>\n  <tbody>\n    <tr>\n      <td>count</td>\n      <td>10.00000</td>\n      <td>10.00000</td>\n      <td>10.00000</td>\n      <td>10.00000</td>\n      <td>10.00000</td>\n      <td>10.00000</td>\n      <td>10.00000</td>\n      <td>10.00000</td>\n    </tr>\n    <tr>\n      <td>mean</td>\n      <td>593.49335</td>\n      <td>43.66549</td>\n      <td>36.49309</td>\n      <td>10.57661</td>\n      <td>0.54316</td>\n      <td>2.16690</td>\n      <td>41.57485</td>\n      <td>37.28615</td>\n    </tr>\n    <tr>\n      <td>std</td>\n      <td>59.98479</td>\n      <td>11.32938</td>\n      <td>11.34957</td>\n      <td>6.51885</td>\n      <td>0.51290</td>\n      <td>1.06616</td>\n      <td>22.77249</td>\n      <td>17.53916</td>\n    </tr>\n    <tr>\n      <td>min</td>\n      <td>514.51740</td>\n      <td>29.74562</td>\n      <td>14.67175</td>\n      <td>1.95229</td>\n      <td>0.00000</td>\n      <td>0.59953</td>\n      <td>17.25907</td>\n      <td>7.52194</td>\n    </tr>\n    <tr>\n      <td>25%</td>\n      <td>563.72928</td>\n      <td>40.36646</td>\n      <td>32.43579</td>\n      <td>7.74047</td>\n      <td>0.18195</td>\n      <td>1.31123</td>\n      <td>25.73577</td>\n      <td>22.45584</td>\n    </tr>\n    <tr>\n      <td>50%</td>\n      <td>572.76435</td>\n      <td>40.73643</td>\n      <td>38.89960</td>\n      <td>9.12031</td>\n      <td>0.33888</td>\n      <td>2.30381</td>\n      <td>35.67709</td>\n      <td>41.11308</td>\n    </tr>\n    <tr>\n      <td>75%</td>\n      <td>611.76150</td>\n      <td>44.27074</td>\n      <td>43.73848</td>\n      <td>11.94262</td>\n      <td>0.95037</td>\n      <td>2.96299</td>\n      <td>45.03080</td>\n      <td>48.91684</td>\n    </tr>\n    <tr>\n      <td>max</td>\n      <td>726.85720</td>\n      <td>71.04302</td>\n      <td>51.30702</td>\n      <td>27.00220</td>\n      <td>1.32867</td>\n      <td>3.78598</td>\n      <td>88.56937</td>\n      <td>59.62160</td>\n    </tr>\n  </tbody>\n</table>\n</div>"
     },
     "metadata": {},
     "execution_count": 247
    }
   ],
   "source": [
    "nutrition_top10_normal_naiv = nutrition_top10_normal_naiv[['Calories', 'Fat', 'Protein', 'Carbohydrates', 'Dietary Fiber', 'Iron', 'Calcium', 'Magnesium' ]]\n",
    "nutrition_top10_normal_naiv.describe()"
   ]
  },
  {
   "cell_type": "code",
   "execution_count": 248,
   "metadata": {},
   "outputs": [
    {
     "output_type": "execute_result",
     "data": {
      "text/plain": "name    Calories      Fat  Protein  Carbohydrates  Dietary Fiber    Iron  \\\nid                                                                         \n15005  620.31840 41.05270 51.30702        8.72020        0.33416 2.71324   \n15395  514.51740 34.18698 42.24757        6.81862        0.00197 2.09525   \n21752  561.08360 29.74562 33.58570       27.00220        0.00000 0.81046   \n25475  654.22680 45.06601 44.23545       12.40110        0.29570 2.51237   \n83792  726.85720 71.04302 14.67175        8.87978        0.14404 1.13887   \n87421  571.74400 41.88495 32.05249       10.94046        1.06261 3.78598   \n107487 573.78470 40.42016 39.15875       12.27667        1.30722 3.13876   \n150292 586.09080 40.35315 47.22263        9.36084        1.32867 0.59953   \n152156 554.64430 40.40639 38.64046        7.41389        0.61368 3.04624   \n166292 571.66630 52.49591 21.80906        1.95229        0.34361 1.82829   \n\nname    Calcium  Magnesium  \nid                          \n15005  37.85680   59.62160  \n15395  31.02137   46.27038  \n21752  46.39300   49.79900  \n25475  73.19752   56.42002  \n83792  23.97390   17.69848  \n87421  33.49738   35.04420  \n107487 88.56937   41.57553  \n150292 17.25907    7.52194  \n152156 40.94420   40.65062  \n166292 23.03594   18.25972  ",
      "text/html": "<div>\n<style scoped>\n    .dataframe tbody tr th:only-of-type {\n        vertical-align: middle;\n    }\n\n    .dataframe tbody tr th {\n        vertical-align: top;\n    }\n\n    .dataframe thead th {\n        text-align: right;\n    }\n</style>\n<table border=\"1\" class=\"dataframe\">\n  <thead>\n    <tr style=\"text-align: right;\">\n      <th>name</th>\n      <th>Calories</th>\n      <th>Fat</th>\n      <th>Protein</th>\n      <th>Carbohydrates</th>\n      <th>Dietary Fiber</th>\n      <th>Iron</th>\n      <th>Calcium</th>\n      <th>Magnesium</th>\n    </tr>\n    <tr>\n      <th>id</th>\n      <th></th>\n      <th></th>\n      <th></th>\n      <th></th>\n      <th></th>\n      <th></th>\n      <th></th>\n      <th></th>\n    </tr>\n  </thead>\n  <tbody>\n    <tr>\n      <td>15005</td>\n      <td>620.31840</td>\n      <td>41.05270</td>\n      <td>51.30702</td>\n      <td>8.72020</td>\n      <td>0.33416</td>\n      <td>2.71324</td>\n      <td>37.85680</td>\n      <td>59.62160</td>\n    </tr>\n    <tr>\n      <td>15395</td>\n      <td>514.51740</td>\n      <td>34.18698</td>\n      <td>42.24757</td>\n      <td>6.81862</td>\n      <td>0.00197</td>\n      <td>2.09525</td>\n      <td>31.02137</td>\n      <td>46.27038</td>\n    </tr>\n    <tr>\n      <td>21752</td>\n      <td>561.08360</td>\n      <td>29.74562</td>\n      <td>33.58570</td>\n      <td>27.00220</td>\n      <td>0.00000</td>\n      <td>0.81046</td>\n      <td>46.39300</td>\n      <td>49.79900</td>\n    </tr>\n    <tr>\n      <td>25475</td>\n      <td>654.22680</td>\n      <td>45.06601</td>\n      <td>44.23545</td>\n      <td>12.40110</td>\n      <td>0.29570</td>\n      <td>2.51237</td>\n      <td>73.19752</td>\n      <td>56.42002</td>\n    </tr>\n    <tr>\n      <td>83792</td>\n      <td>726.85720</td>\n      <td>71.04302</td>\n      <td>14.67175</td>\n      <td>8.87978</td>\n      <td>0.14404</td>\n      <td>1.13887</td>\n      <td>23.97390</td>\n      <td>17.69848</td>\n    </tr>\n    <tr>\n      <td>87421</td>\n      <td>571.74400</td>\n      <td>41.88495</td>\n      <td>32.05249</td>\n      <td>10.94046</td>\n      <td>1.06261</td>\n      <td>3.78598</td>\n      <td>33.49738</td>\n      <td>35.04420</td>\n    </tr>\n    <tr>\n      <td>107487</td>\n      <td>573.78470</td>\n      <td>40.42016</td>\n      <td>39.15875</td>\n      <td>12.27667</td>\n      <td>1.30722</td>\n      <td>3.13876</td>\n      <td>88.56937</td>\n      <td>41.57553</td>\n    </tr>\n    <tr>\n      <td>150292</td>\n      <td>586.09080</td>\n      <td>40.35315</td>\n      <td>47.22263</td>\n      <td>9.36084</td>\n      <td>1.32867</td>\n      <td>0.59953</td>\n      <td>17.25907</td>\n      <td>7.52194</td>\n    </tr>\n    <tr>\n      <td>152156</td>\n      <td>554.64430</td>\n      <td>40.40639</td>\n      <td>38.64046</td>\n      <td>7.41389</td>\n      <td>0.61368</td>\n      <td>3.04624</td>\n      <td>40.94420</td>\n      <td>40.65062</td>\n    </tr>\n    <tr>\n      <td>166292</td>\n      <td>571.66630</td>\n      <td>52.49591</td>\n      <td>21.80906</td>\n      <td>1.95229</td>\n      <td>0.34361</td>\n      <td>1.82829</td>\n      <td>23.03594</td>\n      <td>18.25972</td>\n    </tr>\n  </tbody>\n</table>\n</div>"
     },
     "metadata": {},
     "execution_count": 248
    }
   ],
   "source": [
    "nutrition_top10_normal_naiv"
   ]
  },
  {
   "cell_type": "code",
   "execution_count": 249,
   "metadata": {},
   "outputs": [
    {
     "output_type": "execute_result",
     "data": {
      "text/plain": "array([ 15005,  15395,  21752,  25475,  83792,  87421, 107487, 150292,\n       152156, 166292])"
     },
     "metadata": {},
     "execution_count": 249
    }
   ],
   "source": [
    "nutrition_top10_normal_naiv.index.to_numpy()"
   ]
  },
  {
   "cell_type": "code",
   "execution_count": 250,
   "metadata": {},
   "outputs": [],
   "source": [
    "nutrition_normal_naiv_copy = nutrition_normal_naiv[['Calories', 'Fat', 'Protein', 'Carbohydrates', 'Dietary Fiber', 'Iron', 'Calcium', 'Magnesium' ]]"
   ]
  },
  {
   "cell_type": "code",
   "execution_count": 251,
   "metadata": {},
   "outputs": [
    {
     "output_type": "execute_result",
     "data": {
      "text/plain": "name    Calories       Fat   Protein  Carbohydrates  Dietary Fiber      Iron  \\\ncount  500.00000 500.00000 500.00000      500.00000      500.00000 500.00000   \nmean   379.91200  18.77473  27.77814       24.38722        1.67891   2.64592   \nstd    165.96359  13.16671  11.39625       20.78219        1.81817   1.46535   \nmin     77.87188   1.09763   1.25905        0.85675        0.00000   0.39677   \n25%    258.64975   9.32379  20.14825        9.65446        0.43949   1.61578   \n50%    356.15760  15.71317  25.93048       18.56389        0.97620   2.37335   \n75%    455.64660  24.77847  33.33295       33.35638        2.46734   3.37176   \nmax   1218.62000  97.29582  71.10712      140.09960       13.80218  11.13676   \n\nname    Calcium  Magnesium  \ncount 500.00000  500.00000  \nmean   65.16221   49.14609  \nstd    88.27415   25.55334  \nmin     7.72080    6.70075  \n25%    30.68406   32.72087  \n50%    43.55357   42.95623  \n75%    66.05542   58.13152  \nmax   841.94360  179.86410  ",
      "text/html": "<div>\n<style scoped>\n    .dataframe tbody tr th:only-of-type {\n        vertical-align: middle;\n    }\n\n    .dataframe tbody tr th {\n        vertical-align: top;\n    }\n\n    .dataframe thead th {\n        text-align: right;\n    }\n</style>\n<table border=\"1\" class=\"dataframe\">\n  <thead>\n    <tr style=\"text-align: right;\">\n      <th>name</th>\n      <th>Calories</th>\n      <th>Fat</th>\n      <th>Protein</th>\n      <th>Carbohydrates</th>\n      <th>Dietary Fiber</th>\n      <th>Iron</th>\n      <th>Calcium</th>\n      <th>Magnesium</th>\n    </tr>\n  </thead>\n  <tbody>\n    <tr>\n      <td>count</td>\n      <td>500.00000</td>\n      <td>500.00000</td>\n      <td>500.00000</td>\n      <td>500.00000</td>\n      <td>500.00000</td>\n      <td>500.00000</td>\n      <td>500.00000</td>\n      <td>500.00000</td>\n    </tr>\n    <tr>\n      <td>mean</td>\n      <td>379.91200</td>\n      <td>18.77473</td>\n      <td>27.77814</td>\n      <td>24.38722</td>\n      <td>1.67891</td>\n      <td>2.64592</td>\n      <td>65.16221</td>\n      <td>49.14609</td>\n    </tr>\n    <tr>\n      <td>std</td>\n      <td>165.96359</td>\n      <td>13.16671</td>\n      <td>11.39625</td>\n      <td>20.78219</td>\n      <td>1.81817</td>\n      <td>1.46535</td>\n      <td>88.27415</td>\n      <td>25.55334</td>\n    </tr>\n    <tr>\n      <td>min</td>\n      <td>77.87188</td>\n      <td>1.09763</td>\n      <td>1.25905</td>\n      <td>0.85675</td>\n      <td>0.00000</td>\n      <td>0.39677</td>\n      <td>7.72080</td>\n      <td>6.70075</td>\n    </tr>\n    <tr>\n      <td>25%</td>\n      <td>258.64975</td>\n      <td>9.32379</td>\n      <td>20.14825</td>\n      <td>9.65446</td>\n      <td>0.43949</td>\n      <td>1.61578</td>\n      <td>30.68406</td>\n      <td>32.72087</td>\n    </tr>\n    <tr>\n      <td>50%</td>\n      <td>356.15760</td>\n      <td>15.71317</td>\n      <td>25.93048</td>\n      <td>18.56389</td>\n      <td>0.97620</td>\n      <td>2.37335</td>\n      <td>43.55357</td>\n      <td>42.95623</td>\n    </tr>\n    <tr>\n      <td>75%</td>\n      <td>455.64660</td>\n      <td>24.77847</td>\n      <td>33.33295</td>\n      <td>33.35638</td>\n      <td>2.46734</td>\n      <td>3.37176</td>\n      <td>66.05542</td>\n      <td>58.13152</td>\n    </tr>\n    <tr>\n      <td>max</td>\n      <td>1218.62000</td>\n      <td>97.29582</td>\n      <td>71.10712</td>\n      <td>140.09960</td>\n      <td>13.80218</td>\n      <td>11.13676</td>\n      <td>841.94360</td>\n      <td>179.86410</td>\n    </tr>\n  </tbody>\n</table>\n</div>"
     },
     "metadata": {},
     "execution_count": 251
    }
   ],
   "source": [
    "nutrition_normal_naiv_copy.describe()"
   ]
  },
  {
   "cell_type": "code",
   "execution_count": 252,
   "metadata": {},
   "outputs": [],
   "source": [
    "nutrition_random_10 = nutrition_db2[nutrition_db2.index.isin(new_recipe_db_wo_userrecipes_normal.sample(n=10).index.to_numpy())]"
   ]
  },
  {
   "cell_type": "code",
   "execution_count": 253,
   "metadata": {},
   "outputs": [
    {
     "output_type": "execute_result",
     "data": {
      "text/plain": "name   Calories      Fat  Protein  Carbohydrates  Dietary Fiber     Iron  \\\ncount  10.00000 10.00000 10.00000       10.00000       10.00000 10.00000   \nmean  372.85338 17.18158 22.35458       32.19674        2.86552  2.80277   \nstd   181.22307  9.11458  8.89835       42.20319        2.36445  1.08010   \nmin   137.17080  1.11104  5.86232        2.17963        0.10143  1.36694   \n25%   282.29440 11.53061 20.84503        7.26532        0.98527  1.79282   \n50%   315.55170 17.63027 24.59386       14.18698        2.30382  3.06877   \n75%   484.21037 20.80701 27.17541       40.47207        4.27600  3.38526   \nmax   757.51500 34.86615 31.89189      140.09960        7.32798  4.76431   \n\nname    Calcium  Magnesium  \ncount  10.00000   10.00000  \nmean  141.30790   58.07154  \nstd   128.53617   33.73797  \nmin    17.56674   19.52003  \n25%    26.97501   29.67385  \n50%   115.94311   53.09722  \n75%   242.24013   76.63119  \nmax   364.76480  109.09760  ",
      "text/html": "<div>\n<style scoped>\n    .dataframe tbody tr th:only-of-type {\n        vertical-align: middle;\n    }\n\n    .dataframe tbody tr th {\n        vertical-align: top;\n    }\n\n    .dataframe thead th {\n        text-align: right;\n    }\n</style>\n<table border=\"1\" class=\"dataframe\">\n  <thead>\n    <tr style=\"text-align: right;\">\n      <th>name</th>\n      <th>Calories</th>\n      <th>Fat</th>\n      <th>Protein</th>\n      <th>Carbohydrates</th>\n      <th>Dietary Fiber</th>\n      <th>Iron</th>\n      <th>Calcium</th>\n      <th>Magnesium</th>\n    </tr>\n  </thead>\n  <tbody>\n    <tr>\n      <td>count</td>\n      <td>10.00000</td>\n      <td>10.00000</td>\n      <td>10.00000</td>\n      <td>10.00000</td>\n      <td>10.00000</td>\n      <td>10.00000</td>\n      <td>10.00000</td>\n      <td>10.00000</td>\n    </tr>\n    <tr>\n      <td>mean</td>\n      <td>372.85338</td>\n      <td>17.18158</td>\n      <td>22.35458</td>\n      <td>32.19674</td>\n      <td>2.86552</td>\n      <td>2.80277</td>\n      <td>141.30790</td>\n      <td>58.07154</td>\n    </tr>\n    <tr>\n      <td>std</td>\n      <td>181.22307</td>\n      <td>9.11458</td>\n      <td>8.89835</td>\n      <td>42.20319</td>\n      <td>2.36445</td>\n      <td>1.08010</td>\n      <td>128.53617</td>\n      <td>33.73797</td>\n    </tr>\n    <tr>\n      <td>min</td>\n      <td>137.17080</td>\n      <td>1.11104</td>\n      <td>5.86232</td>\n      <td>2.17963</td>\n      <td>0.10143</td>\n      <td>1.36694</td>\n      <td>17.56674</td>\n      <td>19.52003</td>\n    </tr>\n    <tr>\n      <td>25%</td>\n      <td>282.29440</td>\n      <td>11.53061</td>\n      <td>20.84503</td>\n      <td>7.26532</td>\n      <td>0.98527</td>\n      <td>1.79282</td>\n      <td>26.97501</td>\n      <td>29.67385</td>\n    </tr>\n    <tr>\n      <td>50%</td>\n      <td>315.55170</td>\n      <td>17.63027</td>\n      <td>24.59386</td>\n      <td>14.18698</td>\n      <td>2.30382</td>\n      <td>3.06877</td>\n      <td>115.94311</td>\n      <td>53.09722</td>\n    </tr>\n    <tr>\n      <td>75%</td>\n      <td>484.21037</td>\n      <td>20.80701</td>\n      <td>27.17541</td>\n      <td>40.47207</td>\n      <td>4.27600</td>\n      <td>3.38526</td>\n      <td>242.24013</td>\n      <td>76.63119</td>\n    </tr>\n    <tr>\n      <td>max</td>\n      <td>757.51500</td>\n      <td>34.86615</td>\n      <td>31.89189</td>\n      <td>140.09960</td>\n      <td>7.32798</td>\n      <td>4.76431</td>\n      <td>364.76480</td>\n      <td>109.09760</td>\n    </tr>\n  </tbody>\n</table>\n</div>"
     },
     "metadata": {},
     "execution_count": 253
    }
   ],
   "source": [
    "nutrition_random_10 = nutrition_random_10[['Calories', 'Fat', 'Protein', 'Carbohydrates', 'Dietary Fiber', 'Iron', 'Calcium', 'Magnesium' ]]\n",
    "nutrition_random_10.describe()"
   ]
  },
  {
   "cell_type": "code",
   "execution_count": 254,
   "metadata": {},
   "outputs": [],
   "source": [
    "nutrition_jaccard_normal = nutrition_db2[nutrition_db2.index.isin(result_w_filter_10_normal[0:10].index.to_numpy())]"
   ]
  },
  {
   "cell_type": "code",
   "execution_count": 255,
   "metadata": {},
   "outputs": [
    {
     "output_type": "execute_result",
     "data": {
      "text/plain": "name   Calories      Fat  Protein  Carbohydrates  Dietary Fiber     Iron  \\\ncount  10.00000 10.00000 10.00000       10.00000       10.00000 10.00000   \nmean  377.88154 18.15332 27.52207       26.34726        1.94061  2.62302   \nstd   142.98780 14.57187 10.59497       13.83804        1.48313  1.14005   \nmin   202.86680  4.15611 15.71891       13.29307        0.21804  1.07068   \n25%   320.61210 10.01874 21.96832       16.84179        0.67652  1.66299   \n50%   343.71595 13.92654 26.04003       20.15478        1.79942  2.66837   \n75%   433.65340 20.97736 29.15491       34.79741        3.22858  3.39623   \nmax   709.98490 55.53167 53.39647       54.69534        4.13308  4.22336   \n\nname    Calcium  Magnesium  \ncount  10.00000   10.00000  \nmean   60.55281   52.68198  \nstd    34.29074   26.59647  \nmin    20.02205   25.87718  \n25%    34.09878   34.31395  \n50%    57.26450   45.50204  \n75%    74.09853   58.82804  \nmax   129.81980  114.62010  ",
      "text/html": "<div>\n<style scoped>\n    .dataframe tbody tr th:only-of-type {\n        vertical-align: middle;\n    }\n\n    .dataframe tbody tr th {\n        vertical-align: top;\n    }\n\n    .dataframe thead th {\n        text-align: right;\n    }\n</style>\n<table border=\"1\" class=\"dataframe\">\n  <thead>\n    <tr style=\"text-align: right;\">\n      <th>name</th>\n      <th>Calories</th>\n      <th>Fat</th>\n      <th>Protein</th>\n      <th>Carbohydrates</th>\n      <th>Dietary Fiber</th>\n      <th>Iron</th>\n      <th>Calcium</th>\n      <th>Magnesium</th>\n    </tr>\n  </thead>\n  <tbody>\n    <tr>\n      <td>count</td>\n      <td>10.00000</td>\n      <td>10.00000</td>\n      <td>10.00000</td>\n      <td>10.00000</td>\n      <td>10.00000</td>\n      <td>10.00000</td>\n      <td>10.00000</td>\n      <td>10.00000</td>\n    </tr>\n    <tr>\n      <td>mean</td>\n      <td>377.88154</td>\n      <td>18.15332</td>\n      <td>27.52207</td>\n      <td>26.34726</td>\n      <td>1.94061</td>\n      <td>2.62302</td>\n      <td>60.55281</td>\n      <td>52.68198</td>\n    </tr>\n    <tr>\n      <td>std</td>\n      <td>142.98780</td>\n      <td>14.57187</td>\n      <td>10.59497</td>\n      <td>13.83804</td>\n      <td>1.48313</td>\n      <td>1.14005</td>\n      <td>34.29074</td>\n      <td>26.59647</td>\n    </tr>\n    <tr>\n      <td>min</td>\n      <td>202.86680</td>\n      <td>4.15611</td>\n      <td>15.71891</td>\n      <td>13.29307</td>\n      <td>0.21804</td>\n      <td>1.07068</td>\n      <td>20.02205</td>\n      <td>25.87718</td>\n    </tr>\n    <tr>\n      <td>25%</td>\n      <td>320.61210</td>\n      <td>10.01874</td>\n      <td>21.96832</td>\n      <td>16.84179</td>\n      <td>0.67652</td>\n      <td>1.66299</td>\n      <td>34.09878</td>\n      <td>34.31395</td>\n    </tr>\n    <tr>\n      <td>50%</td>\n      <td>343.71595</td>\n      <td>13.92654</td>\n      <td>26.04003</td>\n      <td>20.15478</td>\n      <td>1.79942</td>\n      <td>2.66837</td>\n      <td>57.26450</td>\n      <td>45.50204</td>\n    </tr>\n    <tr>\n      <td>75%</td>\n      <td>433.65340</td>\n      <td>20.97736</td>\n      <td>29.15491</td>\n      <td>34.79741</td>\n      <td>3.22858</td>\n      <td>3.39623</td>\n      <td>74.09853</td>\n      <td>58.82804</td>\n    </tr>\n    <tr>\n      <td>max</td>\n      <td>709.98490</td>\n      <td>55.53167</td>\n      <td>53.39647</td>\n      <td>54.69534</td>\n      <td>4.13308</td>\n      <td>4.22336</td>\n      <td>129.81980</td>\n      <td>114.62010</td>\n    </tr>\n  </tbody>\n</table>\n</div>"
     },
     "metadata": {},
     "execution_count": 255
    }
   ],
   "source": [
    "nutrition_jaccard_normal = nutrition_jaccard_normal[['Calories', 'Fat', 'Protein', 'Carbohydrates', 'Dietary Fiber', 'Iron', 'Calcium', 'Magnesium' ]]\n",
    "nutrition_jaccard_normal.describe()"
   ]
  },
  {
   "cell_type": "code",
   "execution_count": 256,
   "metadata": {},
   "outputs": [],
   "source": [
    "nutrition_user_recipes_normal = nutrition_db2[nutrition_db2.index.isin(user_recipes_normal.index.to_numpy())]"
   ]
  },
  {
   "cell_type": "code",
   "execution_count": 257,
   "metadata": {},
   "outputs": [],
   "source": [
    "nutrition_user_recipes_normal = nutrition_user_recipes_normal[['Calories', 'Fat', 'Protein', 'Carbohydrates', 'Dietary Fiber', 'Iron', 'Calcium', 'Magnesium' ]]"
   ]
  },
  {
   "cell_type": "code",
   "execution_count": 258,
   "metadata": {},
   "outputs": [
    {
     "output_type": "execute_result",
     "data": {
      "text/plain": "name   Calories      Fat  Protein  Carbohydrates  Dietary Fiber     Iron  \\\ncount  10.00000 10.00000 10.00000       10.00000       10.00000 10.00000   \nmean  373.20160 17.43535 27.38771       25.02173        2.01970  2.92550   \nstd   167.68859 13.09345 14.66362       21.86542        2.77605  1.23483   \nmin   159.87500  1.51186  6.72020        5.49834        0.11800  0.95962   \n25%   281.49715  9.74220 19.87937       13.55111        0.26699  2.27362   \n50%   311.05070 16.33429 23.46711       14.33521        0.97516  3.17336   \n75%   490.08047 19.43150 28.54940       28.41936        2.76950  3.40366   \nmax   652.74430 44.00749 56.59666       72.76235        9.08962  5.50868   \n\nname   Calcium  Magnesium  \ncount 10.00000   10.00000  \nmean  51.04455   50.53929  \nstd   18.74117   30.30378  \nmin   19.36939   19.33667  \n25%   47.41096   29.47750  \n50%   51.84065   42.14446  \n75%   63.07875   57.97394  \nmax   80.20887  118.93400  ",
      "text/html": "<div>\n<style scoped>\n    .dataframe tbody tr th:only-of-type {\n        vertical-align: middle;\n    }\n\n    .dataframe tbody tr th {\n        vertical-align: top;\n    }\n\n    .dataframe thead th {\n        text-align: right;\n    }\n</style>\n<table border=\"1\" class=\"dataframe\">\n  <thead>\n    <tr style=\"text-align: right;\">\n      <th>name</th>\n      <th>Calories</th>\n      <th>Fat</th>\n      <th>Protein</th>\n      <th>Carbohydrates</th>\n      <th>Dietary Fiber</th>\n      <th>Iron</th>\n      <th>Calcium</th>\n      <th>Magnesium</th>\n    </tr>\n  </thead>\n  <tbody>\n    <tr>\n      <td>count</td>\n      <td>10.00000</td>\n      <td>10.00000</td>\n      <td>10.00000</td>\n      <td>10.00000</td>\n      <td>10.00000</td>\n      <td>10.00000</td>\n      <td>10.00000</td>\n      <td>10.00000</td>\n    </tr>\n    <tr>\n      <td>mean</td>\n      <td>373.20160</td>\n      <td>17.43535</td>\n      <td>27.38771</td>\n      <td>25.02173</td>\n      <td>2.01970</td>\n      <td>2.92550</td>\n      <td>51.04455</td>\n      <td>50.53929</td>\n    </tr>\n    <tr>\n      <td>std</td>\n      <td>167.68859</td>\n      <td>13.09345</td>\n      <td>14.66362</td>\n      <td>21.86542</td>\n      <td>2.77605</td>\n      <td>1.23483</td>\n      <td>18.74117</td>\n      <td>30.30378</td>\n    </tr>\n    <tr>\n      <td>min</td>\n      <td>159.87500</td>\n      <td>1.51186</td>\n      <td>6.72020</td>\n      <td>5.49834</td>\n      <td>0.11800</td>\n      <td>0.95962</td>\n      <td>19.36939</td>\n      <td>19.33667</td>\n    </tr>\n    <tr>\n      <td>25%</td>\n      <td>281.49715</td>\n      <td>9.74220</td>\n      <td>19.87937</td>\n      <td>13.55111</td>\n      <td>0.26699</td>\n      <td>2.27362</td>\n      <td>47.41096</td>\n      <td>29.47750</td>\n    </tr>\n    <tr>\n      <td>50%</td>\n      <td>311.05070</td>\n      <td>16.33429</td>\n      <td>23.46711</td>\n      <td>14.33521</td>\n      <td>0.97516</td>\n      <td>3.17336</td>\n      <td>51.84065</td>\n      <td>42.14446</td>\n    </tr>\n    <tr>\n      <td>75%</td>\n      <td>490.08047</td>\n      <td>19.43150</td>\n      <td>28.54940</td>\n      <td>28.41936</td>\n      <td>2.76950</td>\n      <td>3.40366</td>\n      <td>63.07875</td>\n      <td>57.97394</td>\n    </tr>\n    <tr>\n      <td>max</td>\n      <td>652.74430</td>\n      <td>44.00749</td>\n      <td>56.59666</td>\n      <td>72.76235</td>\n      <td>9.08962</td>\n      <td>5.50868</td>\n      <td>80.20887</td>\n      <td>118.93400</td>\n    </tr>\n  </tbody>\n</table>\n</div>"
     },
     "metadata": {},
     "execution_count": 258
    }
   ],
   "source": [
    "nutrition_user_recipes_normal.describe()"
   ]
  }
 ],
 "metadata": {
  "language_info": {
   "name": "python",
   "codemirror_mode": {
    "name": "ipython",
    "version": 3
   },
   "version": "3.7.7-final"
  },
  "orig_nbformat": 2,
  "file_extension": ".py",
  "mimetype": "text/x-python",
  "name": "python",
  "npconvert_exporter": "python",
  "pygments_lexer": "ipython3",
  "version": 3,
  "kernelspec": {
   "name": "python3",
   "display_name": "Python 3"
  }
 },
 "nbformat": 4,
 "nbformat_minor": 2
}