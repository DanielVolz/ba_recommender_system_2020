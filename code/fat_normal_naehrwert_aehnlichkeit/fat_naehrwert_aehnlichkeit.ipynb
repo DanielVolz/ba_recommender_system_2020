{
 "cells": [
  {
   "cell_type": "code",
   "execution_count": 2,
   "metadata": {},
   "outputs": [],
   "source": [
    "import json\n",
    "\n",
    "import numpy as np\n",
    "import pandas as pd\n",
    "import pymongo\n",
    "import scipy\n",
    "from bson import ObjectId, json_util\n",
    "from pandas.io.json import json_normalize\n",
    "from pymongo import MongoClient as Connection\n",
    "from scipy import sparse, spatial\n",
    "from scipy.spatial.distance import cdist, pdist, squareform\n",
    "from sklearn.metrics.pairwise import cosine_similarity\n",
    "\n",
    "# scientific notation disabled form smaller numbers\n",
    "pd.options.display.float_format = '{:.2f}'.format\n",
    "\n",
    "# alles resultate anzeigen und nicht nur das letzte\n",
    "from IPython.core.interactiveshell import InteractiveShell\n",
    "InteractiveShell.ast_node_interactivity = \"all\"\n",
    "\n"
   ]
  },
  {
   "cell_type": "code",
   "execution_count": 3,
   "metadata": {},
   "outputs": [
    {
     "output_type": "execute_result",
     "data": {
      "text/plain": "<IPython.core.display.HTML object>",
      "text/html": "<style>\n.output {\n    flex-direction: row;\n}\n</style>"
     },
     "metadata": {},
     "execution_count": 3
    }
   ],
   "source": [
    "# display multiple outputs in one row\n",
    "import pandas as pd\n",
    "import numpy as np\n",
    "from IPython.display import display, HTML\n",
    "\n",
    "CSS = \"\"\"\n",
    ".output {\n",
    "    flex-direction: row;\n",
    "}\n",
    "\"\"\"\n",
    "\n",
    "HTML('<style>{}</style>'.format(CSS))"
   ]
  },
  {
   "cell_type": "code",
   "execution_count": 4,
   "metadata": {},
   "outputs": [],
   "source": [
    "connection = Connection()\n",
    "db = connection.recipe_db\n",
    "input_data = db.recipes_without_reviews\n",
    "\n",
    "data = json.loads(json_util.dumps(input_data.find()))"
   ]
  },
  {
   "cell_type": "code",
   "execution_count": 5,
   "metadata": {},
   "outputs": [],
   "source": [
    "ing = pd.DataFrame(json_normalize(data, record_path='ingredients',\n",
    "                             meta='id', record_prefix='ingredients_', errors='ignore'))\n",
    "\n",
    "\n",
    "nutritions = pd.DataFrame(json_normalize(data, record_path='nutritions',\n",
    "                            meta=['id', 'prep_time', 'rating', 'rating_count', 'ready_in_time', 'review_count']))\n"
   ]
  },
  {
   "cell_type": "code",
   "execution_count": 6,
   "metadata": {},
   "outputs": [],
   "source": [
    "#  ------  erstellung und data cleansing - Ingredients\n",
    "\n",
    "# schmeiss alle zutaten raus, die weniger als 5 mal verwendet werden\n",
    "# setze multiinde auf 'id' und 'ingredients_id'\n",
    "ingredients = ing.set_index(['id', 'ingredients_id'])\n",
    "\n",
    "# filtere alle Zutaten samt ihrer rezepte id, die weniger gleich 5 mal vorkommen\n",
    "ingredients_eqles_5_ing = ingredients.groupby(\n",
    "    'ingredients_id').filter(lambda x: len(x) <= 5)\n",
    "\n",
    "# droppe alle rezepte, die eine Zutate besitzen, die weniger gleich 5 Mal vorkommen\n",
    "ingredients_filt = ingredients.drop(ingredients_eqles_5_ing.index.get_level_values('id').values, level=0)\n",
    "\n",
    "# drop alls rows with ingredients_id == 0\n",
    "ingredients_eqal_zero = ingredients_filt[ingredients_filt.index.get_level_values('ingredients_id') == 0]\n",
    "ingredients_filt = ingredients_filt.drop(ingredients_eqal_zero.index.get_level_values('id').values, level=0)\n"
   ]
  },
  {
   "cell_type": "code",
   "execution_count": 8,
   "metadata": {},
   "outputs": [],
   "source": [
    "#  ------ Erstellung und cleansing des Nutrition Dataframes\n",
    "\n",
    "# erstelle neue liste auf basis der bereits gefilterten rezepte aus ingredients_filt\n",
    "id_overlap_mask = nutritions['id'].isin(ingredients_filt.index.get_level_values('id').values)\n",
    "\n",
    "# erstelle datenframe auf basis der overlapliste\n",
    "nutritions_filt = nutritions.loc[id_overlap_mask]\n",
    "\n",
    "nutrition_db = nutritions_filt.pivot_table(\n",
    "    index=['id'],\n",
    "    columns=['name'],\n",
    "    values=['amount'],\n",
    ").reset_index()\n",
    "\n",
    "nutrition_db.set_index('id', inplace=True)\n",
    "\n",
    "# remove multiindex 'amount'\n",
    "nutrition_db.columns = nutrition_db.columns.droplevel(0)\n",
    "\n",
    "# entferne alle NA\n",
    "nutrition_db = nutrition_db.dropna()\n",
    "\n",
    "# gleiche nochmals die ids der beiden dataframe nutrition und ingredients ab, da der nutrition dataframe noch NA Werte hatt\n",
    "id_overlap_mask = ingredients_filt.index.get_level_values('id').isin(nutrition_db.index)\n",
    "ingredients_db = ingredients_filt[id_overlap_mask]\n",
    "\n",
    "# abgleich ob anzahl der indizes von nutrition und zutaten dataframe gleich sind\n"
   ]
  },
  {
   "cell_type": "code",
   "execution_count": null,
   "metadata": {},
   "outputs": [],
   "source": []
  },
  {
   "cell_type": "code",
   "execution_count": 9,
   "metadata": {},
   "outputs": [],
   "source": [
    "\n",
    "\n",
    "ingredients_db.reset_index(inplace=True)\n",
    "\n",
    "recipe_db = pd.get_dummies(ingredients_db['ingredients_id']).groupby(\n",
    "    ingredients_db['id']).apply(max)\n",
    "\n"
   ]
  },
  {
   "cell_type": "code",
   "execution_count": 10,
   "metadata": {},
   "outputs": [],
   "source": [
    "new_ingredients = ingredients_db.copy()\n",
    "#new_ingredients = new_ingredients.groupby(\"id\")[\"ingredients_grams\"].sum().reset_index()\n",
    "gramms_ingredients = new_ingredients.groupby(\"id\")[\"ingredients_grams\"].sum().reset_index().copy()\n",
    "\n",
    "Q1 = gramms_ingredients.quantile(0.25)\n",
    "Q3 = gramms_ingredients.quantile(0.75)\n",
    "IQR = Q3 - Q1\n",
    "\n",
    "#Filter out all recipes which are outlier by their weight (gramms)\n",
    "df = gramms_ingredients[~((gramms_ingredients < (Q1 - 1.5 * IQR)) |(gramms_ingredients > (Q3 + 1.5 * IQR))).any(axis=1)].copy()\n",
    "\n",
    "#filter out recipes by weight which are not in the range 500 - 2373.59 gramms\n",
    "df_start_at_fivehundret = df[df['ingredients_grams'].between(500, 2373.58225, inclusive=False)].copy()\n",
    "\n",
    "df_start_at_fivehundret.set_index('id', inplace=True)\n",
    "id_overlap_mask = nutritions['id'].isin(df_start_at_fivehundret.index.get_level_values('id').values)\n",
    "\n",
    "\n",
    "# erstelle datenframe auf basis der overlapliste\n",
    "nutritions_filt_gramm = nutritions.loc[id_overlap_mask]\n",
    "\n",
    "nutrition_db2 = nutritions_filt_gramm.pivot_table(\n",
    "    index=['id'],\n",
    "    columns=['name'],\n",
    "    values=['amount'],\n",
    ").reset_index()\n",
    "\n",
    "#create new nutrition db based on the above filtering\n",
    "nutrition_db2.set_index('id', inplace=True)\n",
    "nutrition_db2.columns = nutrition_db2.columns.droplevel(0)\n",
    "\n"
   ]
  },
  {
   "cell_type": "code",
   "execution_count": 11,
   "metadata": {},
   "outputs": [],
   "source": [
    "# random\n",
    "subset_random_top10 = nutrition_db2.sample(n=10).copy()"
   ]
  },
  {
   "cell_type": "code",
   "execution_count": 12,
   "metadata": {},
   "outputs": [],
   "source": [
    "erg_2_fat_10_naiv = [20458, 231233,  38004, 228134,  35469,  23434,  24683,  12066, 30007,  72277]"
   ]
  },
  {
   "cell_type": "code",
   "execution_count": 13,
   "metadata": {},
   "outputs": [],
   "source": [
    "subset_fat_id = erg_2_fat_10_naiv"
   ]
  },
  {
   "cell_type": "code",
   "execution_count": 14,
   "metadata": {},
   "outputs": [],
   "source": [
    "# remove recipes which are missing in nutrition df from the ingredients tecipes dataframe\n",
    "mask = recipe_db.index.isin(nutrition_db2.index.values)\n",
    "recipe_db = recipe_db.loc[mask]\n"
   ]
  },
  {
   "cell_type": "code",
   "execution_count": 15,
   "metadata": {},
   "outputs": [],
   "source": [
    "user_recipes_fat = recipe_db[recipe_db.index.isin(subset_fat_id)]\n",
    "#user_recipes_normal = recipe_db[recipe_db.index.isin(subset_normal_id)]"
   ]
  },
  {
   "cell_type": "code",
   "execution_count": 16,
   "metadata": {},
   "outputs": [],
   "source": [
    "#top10 most common ingredients\n",
    "#16421    2125 salt\n",
    "#4342     1506 garlic\n",
    "#4397     1412 onion\n",
    "#16406    1185 ground black pepper\n",
    "#16157    1016 butter\n",
    "#6307      944 olive oil\n",
    "#6494      786 skinless bone less chicken breast\n",
    "#2496      749 water\n",
    "#16238     574 grated Parmesan cheese\n",
    "#16317     538 eggs\n",
    "\n",
    "\n",
    "drop_id_list = [16421, 4342, 4397, 16406, 16157, 6307, 6494, 2496, 16238, 16317]\n",
    "\n",
    "\n",
    "\n"
   ]
  },
  {
   "cell_type": "code",
   "execution_count": 17,
   "metadata": {},
   "outputs": [],
   "source": [
    "#filter out ingredients which are too common and the recipes in the user profile from the recipes database\n",
    "new_recipe_db = recipe_db.drop(axis=1, labels=drop_id_list)\n",
    "\n",
    "new_recipe_db_wo_userrecipes_fat = new_recipe_db.drop(axis=0, labels=subset_fat_id)"
   ]
  },
  {
   "cell_type": "code",
   "execution_count": 18,
   "metadata": {},
   "outputs": [],
   "source": [
    "#remove basic ingredients like garlic, olive oil, skinless bone less chicken breast, butter, milk, salt and pepper, onion\n",
    "new_user_recipes_fat = user_recipes_fat.drop(axis=1, labels=drop_id_list)\n"
   ]
  },
  {
   "cell_type": "code",
   "execution_count": 19,
   "metadata": {},
   "outputs": [],
   "source": [
    "sample_fat = new_user_recipes_fat.sample(n=10).copy()\n"
   ]
  },
  {
   "cell_type": "code",
   "execution_count": 20,
   "metadata": {},
   "outputs": [
    {
     "output_type": "execute_result",
     "data": {
      "text/plain": "        jaccard_distance_sum\n103503                  0.88\n240619                  0.88\n53075                   0.88\n23105                   0.89\n14622                   0.89\n8945                    0.89\n16700                   0.89\n26656                   0.89\n14587                   0.89\n216902                  0.90",
      "text/html": "<div>\n<style scoped>\n    .dataframe tbody tr th:only-of-type {\n        vertical-align: middle;\n    }\n\n    .dataframe tbody tr th {\n        vertical-align: top;\n    }\n\n    .dataframe thead th {\n        text-align: right;\n    }\n</style>\n<table border=\"1\" class=\"dataframe\">\n  <thead>\n    <tr style=\"text-align: right;\">\n      <th></th>\n      <th>jaccard_distance_sum</th>\n    </tr>\n  </thead>\n  <tbody>\n    <tr>\n      <td>103503</td>\n      <td>0.88</td>\n    </tr>\n    <tr>\n      <td>240619</td>\n      <td>0.88</td>\n    </tr>\n    <tr>\n      <td>53075</td>\n      <td>0.88</td>\n    </tr>\n    <tr>\n      <td>23105</td>\n      <td>0.89</td>\n    </tr>\n    <tr>\n      <td>14622</td>\n      <td>0.89</td>\n    </tr>\n    <tr>\n      <td>8945</td>\n      <td>0.89</td>\n    </tr>\n    <tr>\n      <td>16700</td>\n      <td>0.89</td>\n    </tr>\n    <tr>\n      <td>26656</td>\n      <td>0.89</td>\n    </tr>\n    <tr>\n      <td>14587</td>\n      <td>0.89</td>\n    </tr>\n    <tr>\n      <td>216902</td>\n      <td>0.90</td>\n    </tr>\n  </tbody>\n</table>\n</div>"
     },
     "metadata": {},
     "execution_count": 20
    }
   ],
   "source": [
    "## Jaccard - fat\n",
    "\n",
    "result_array = cdist(sample_fat, new_recipe_db_wo_userrecipes_fat,'jaccard')\n",
    "result_w_filter_fat = pd.DataFrame(result_array, columns=new_recipe_db_wo_userrecipes_fat.index.values, index=sample_fat.index.values)\n",
    "# result_2\n",
    "\n",
    "result_w_filter_10_fat = pd.DataFrame(result_w_filter_fat.sum(), columns=['jaccard_distance_sum'])\n",
    "result_w_filter_10_fat = result_w_filter_10_fat.sort_values(by='jaccard_distance_sum')\n",
    "result_w_filter_10_fat['jaccard_distance_sum'] = result_w_filter_10_fat['jaccard_distance_sum'].div(10)\n",
    "result_w_filter_10_fat[0:10]\n"
   ]
  },
  {
   "cell_type": "code",
   "execution_count": 21,
   "metadata": {},
   "outputs": [
    {
     "output_type": "execute_result",
     "data": {
      "text/plain": "array([103503, 240619,  53075,  23105,  14622,   8945,  16700,  26656,\n        14587, 216902])"
     },
     "metadata": {},
     "execution_count": 21
    }
   ],
   "source": [
    "result_w_filter_10_fat[0:10].index.to_numpy()"
   ]
  },
  {
   "cell_type": "code",
   "execution_count": 22,
   "metadata": {},
   "outputs": [],
   "source": [
    "####### results"
   ]
  },
  {
   "cell_type": "code",
   "execution_count": 23,
   "metadata": {},
   "outputs": [
    {
     "output_type": "execute_result",
     "data": {
      "text/plain": "array([ 23434,  35469,  12066,  38004,  20458,  72277, 231233, 228134,\n        30007,  24683])"
     },
     "metadata": {},
     "execution_count": 23
    }
   ],
   "source": [
    "# userrecipes fat\n",
    "sample_fat.index.to_numpy()"
   ]
  },
  {
   "cell_type": "code",
   "execution_count": 24,
   "metadata": {},
   "outputs": [
    {
     "output_type": "execute_result",
     "data": {
      "text/plain": "array([103503, 240619,  53075,  23105,  14622,   8945,  16700,  26656,\n        14587, 216902])"
     },
     "metadata": {},
     "execution_count": 24
    }
   ],
   "source": [
    "###### jaccard fat top 10 naiv\n",
    "result_w_filter_10_fat[0:10].index.to_numpy()"
   ]
  },
  {
   "cell_type": "code",
   "execution_count": 25,
   "metadata": {},
   "outputs": [
    {
     "output_type": "execute_result",
     "data": {
      "text/plain": "array([ 14629, 175666, 222850,  15030, 229764,  72715, 241165,  54611,\n        24009,  85007])"
     },
     "metadata": {},
     "execution_count": 25
    }
   ],
   "source": [
    "##### random top 10\n",
    "subset_random_top10.index.to_numpy()"
   ]
  },
  {
   "cell_type": "code",
   "execution_count": 65,
   "metadata": {},
   "outputs": [
    {
     "output_type": "execute_result",
     "data": {
      "text/plain": "name   Calcium  Calories  Calories from Fat  Carbohydrates  Cholesterol  \\\ncount  4062.00   4062.00            4062.00        4062.00      4062.00   \nmean    146.25    436.38             205.35          29.33        96.54   \nstd     159.44    208.87             142.06          23.54        64.78   \nmin       0.93     13.63               0.93           0.00         0.00   \n25%      41.70    293.54             110.93          10.18        58.52   \n50%      82.98    402.20             179.09          24.77        83.22   \n75%     191.85    543.93             270.07          43.31       126.23   \nmax    1264.33   4709.20            3455.29         236.72       979.78   \n\nname   Dietary Fiber     Fat  Folate    Iron  Magnesium  Niacin Equivalents  \\\ncount        4062.00 4062.00 4062.00 4062.00    4062.00             4062.00   \nmean            2.63   22.82   60.76    3.17      51.62               12.30   \nstd             2.64   15.78   60.62    2.61      32.33                7.29   \nmin             0.00    0.10    0.00    0.07       0.86                0.04   \n25%             0.72   12.33   15.83    1.76      31.96                7.14   \n50%             1.91   19.90   39.22    2.73      45.61               10.96   \n75%             3.67   30.01   88.14    3.95      63.72               16.49   \nmax            27.83  383.92  519.54   55.89     590.39              109.02   \n\nname   Potassium  Protein  Saturated Fat   Sodium  Sugars  Thiamin  \\\ncount    4062.00  4062.00        4062.00  4062.00 4062.00  4062.00   \nmean      537.35    27.76           8.69   846.60    6.73     0.30   \nstd       325.03    13.36           7.23   736.41    9.18     0.30   \nmin         4.66     0.45           0.02     2.68    0.00     0.00   \n25%       330.89    19.11           3.47   403.29    1.70     0.10   \n50%       474.24    26.44           6.95   719.32    3.83     0.20   \n75%       660.27    34.30          11.96  1084.21    7.82     0.39   \nmax      6063.16   273.22         103.44 22099.37  136.51     3.26   \n\nname   Vitamin A - IU  Vitamin B6  Vitamin C  \ncount         4062.00     4062.00    4062.00  \nmean          1221.15        0.51      16.72  \nstd           2557.36        0.34      26.92  \nmin              0.00        0.00       0.00  \n25%            226.36        0.27       2.04  \n50%            569.15        0.44       6.49  \n75%           1118.61        0.69      19.57  \nmax          40386.87        5.98     507.28  ",
      "text/html": "<div>\n<style scoped>\n    .dataframe tbody tr th:only-of-type {\n        vertical-align: middle;\n    }\n\n    .dataframe tbody tr th {\n        vertical-align: top;\n    }\n\n    .dataframe thead th {\n        text-align: right;\n    }\n</style>\n<table border=\"1\" class=\"dataframe\">\n  <thead>\n    <tr style=\"text-align: right;\">\n      <th>name</th>\n      <th>Calcium</th>\n      <th>Calories</th>\n      <th>Calories from Fat</th>\n      <th>Carbohydrates</th>\n      <th>Cholesterol</th>\n      <th>Dietary Fiber</th>\n      <th>Fat</th>\n      <th>Folate</th>\n      <th>Iron</th>\n      <th>Magnesium</th>\n      <th>Niacin Equivalents</th>\n      <th>Potassium</th>\n      <th>Protein</th>\n      <th>Saturated Fat</th>\n      <th>Sodium</th>\n      <th>Sugars</th>\n      <th>Thiamin</th>\n      <th>Vitamin A - IU</th>\n      <th>Vitamin B6</th>\n      <th>Vitamin C</th>\n    </tr>\n  </thead>\n  <tbody>\n    <tr>\n      <td>count</td>\n      <td>4062.00</td>\n      <td>4062.00</td>\n      <td>4062.00</td>\n      <td>4062.00</td>\n      <td>4062.00</td>\n      <td>4062.00</td>\n      <td>4062.00</td>\n      <td>4062.00</td>\n      <td>4062.00</td>\n      <td>4062.00</td>\n      <td>4062.00</td>\n      <td>4062.00</td>\n      <td>4062.00</td>\n      <td>4062.00</td>\n      <td>4062.00</td>\n      <td>4062.00</td>\n      <td>4062.00</td>\n      <td>4062.00</td>\n      <td>4062.00</td>\n      <td>4062.00</td>\n    </tr>\n    <tr>\n      <td>mean</td>\n      <td>146.25</td>\n      <td>436.38</td>\n      <td>205.35</td>\n      <td>29.33</td>\n      <td>96.54</td>\n      <td>2.63</td>\n      <td>22.82</td>\n      <td>60.76</td>\n      <td>3.17</td>\n      <td>51.62</td>\n      <td>12.30</td>\n      <td>537.35</td>\n      <td>27.76</td>\n      <td>8.69</td>\n      <td>846.60</td>\n      <td>6.73</td>\n      <td>0.30</td>\n      <td>1221.15</td>\n      <td>0.51</td>\n      <td>16.72</td>\n    </tr>\n    <tr>\n      <td>std</td>\n      <td>159.44</td>\n      <td>208.87</td>\n      <td>142.06</td>\n      <td>23.54</td>\n      <td>64.78</td>\n      <td>2.64</td>\n      <td>15.78</td>\n      <td>60.62</td>\n      <td>2.61</td>\n      <td>32.33</td>\n      <td>7.29</td>\n      <td>325.03</td>\n      <td>13.36</td>\n      <td>7.23</td>\n      <td>736.41</td>\n      <td>9.18</td>\n      <td>0.30</td>\n      <td>2557.36</td>\n      <td>0.34</td>\n      <td>26.92</td>\n    </tr>\n    <tr>\n      <td>min</td>\n      <td>0.93</td>\n      <td>13.63</td>\n      <td>0.93</td>\n      <td>0.00</td>\n      <td>0.00</td>\n      <td>0.00</td>\n      <td>0.10</td>\n      <td>0.00</td>\n      <td>0.07</td>\n      <td>0.86</td>\n      <td>0.04</td>\n      <td>4.66</td>\n      <td>0.45</td>\n      <td>0.02</td>\n      <td>2.68</td>\n      <td>0.00</td>\n      <td>0.00</td>\n      <td>0.00</td>\n      <td>0.00</td>\n      <td>0.00</td>\n    </tr>\n    <tr>\n      <td>25%</td>\n      <td>41.70</td>\n      <td>293.54</td>\n      <td>110.93</td>\n      <td>10.18</td>\n      <td>58.52</td>\n      <td>0.72</td>\n      <td>12.33</td>\n      <td>15.83</td>\n      <td>1.76</td>\n      <td>31.96</td>\n      <td>7.14</td>\n      <td>330.89</td>\n      <td>19.11</td>\n      <td>3.47</td>\n      <td>403.29</td>\n      <td>1.70</td>\n      <td>0.10</td>\n      <td>226.36</td>\n      <td>0.27</td>\n      <td>2.04</td>\n    </tr>\n    <tr>\n      <td>50%</td>\n      <td>82.98</td>\n      <td>402.20</td>\n      <td>179.09</td>\n      <td>24.77</td>\n      <td>83.22</td>\n      <td>1.91</td>\n      <td>19.90</td>\n      <td>39.22</td>\n      <td>2.73</td>\n      <td>45.61</td>\n      <td>10.96</td>\n      <td>474.24</td>\n      <td>26.44</td>\n      <td>6.95</td>\n      <td>719.32</td>\n      <td>3.83</td>\n      <td>0.20</td>\n      <td>569.15</td>\n      <td>0.44</td>\n      <td>6.49</td>\n    </tr>\n    <tr>\n      <td>75%</td>\n      <td>191.85</td>\n      <td>543.93</td>\n      <td>270.07</td>\n      <td>43.31</td>\n      <td>126.23</td>\n      <td>3.67</td>\n      <td>30.01</td>\n      <td>88.14</td>\n      <td>3.95</td>\n      <td>63.72</td>\n      <td>16.49</td>\n      <td>660.27</td>\n      <td>34.30</td>\n      <td>11.96</td>\n      <td>1084.21</td>\n      <td>7.82</td>\n      <td>0.39</td>\n      <td>1118.61</td>\n      <td>0.69</td>\n      <td>19.57</td>\n    </tr>\n    <tr>\n      <td>max</td>\n      <td>1264.33</td>\n      <td>4709.20</td>\n      <td>3455.29</td>\n      <td>236.72</td>\n      <td>979.78</td>\n      <td>27.83</td>\n      <td>383.92</td>\n      <td>519.54</td>\n      <td>55.89</td>\n      <td>590.39</td>\n      <td>109.02</td>\n      <td>6063.16</td>\n      <td>273.22</td>\n      <td>103.44</td>\n      <td>22099.37</td>\n      <td>136.51</td>\n      <td>3.26</td>\n      <td>40386.87</td>\n      <td>5.98</td>\n      <td>507.28</td>\n    </tr>\n  </tbody>\n</table>\n</div>"
     },
     "metadata": {},
     "execution_count": 65
    }
   ],
   "source": [
    "nutrition_db.describe()"
   ]
  },
  {
   "cell_type": "code",
   "execution_count": 66,
   "metadata": {},
   "outputs": [],
   "source": [
    "w_outlier_nut = nutrition_db[['Calories', 'Fat', 'Protein', 'Carbohydrates', 'Dietary Fiber', 'Iron', 'Calcium', 'Magnesium' ]]"
   ]
  },
  {
   "cell_type": "code",
   "execution_count": 67,
   "metadata": {},
   "outputs": [
    {
     "output_type": "execute_result",
     "data": {
      "text/plain": "name   Calcium  Calories  Calories from Fat  Carbohydrates  Cholesterol  \\\ncount  3770.00   3770.00            3770.00        3770.00      3770.00   \nmean    147.62    437.41             206.09          29.14        97.13   \nstd     159.99    183.08             125.84          22.82        60.48   \nmin       2.25     51.34               1.32           0.00         0.00   \n25%      41.90    302.98             116.53          10.23        60.39   \n50%      83.17    407.19             182.76          24.79        85.16   \n75%     193.60    541.44             271.86          43.26       126.76   \nmax    1264.33   1828.19             989.10         236.72       708.85   \n\nname   Dietary Fiber     Fat  Folate    Iron  Magnesium  Niacin Equivalents  \\\ncount        3770.00 3770.00 3770.00 3770.00    3770.00             3770.00   \nmean            2.60   22.90   60.51    3.15      51.42               12.44   \nstd             2.51   13.98   59.88    2.44      29.11                6.89   \nmin             0.00    0.15    0.00    0.20       1.00                0.04   \n25%             0.75   12.95   15.88    1.81      33.23                7.40   \n50%             1.95   20.31   38.70    2.77      45.93               11.16   \n75%             3.67   30.21   88.07    3.93      63.26               16.56   \nmax            27.83  109.90  519.54   55.89     590.39               47.58   \n\nname   Potassium  Protein  Saturated Fat  Sodium  Sugars  Thiamin  \\\ncount    3770.00  3770.00        3770.00 3770.00 3770.00  3770.00   \nmean      532.02    28.05           8.75  851.17    6.73     0.30   \nstd       267.47    12.01           6.80  643.54    8.81     0.30   \nmin        21.36     0.75           0.02    5.20    0.00     0.00   \n25%       345.46    19.98           3.63  418.68    1.77     0.11   \n50%       480.73    26.87           7.17  734.11    3.91     0.20   \n75%       654.21    34.32          12.14 1092.86    7.84     0.40   \nmax      1931.49    99.73          59.31 7322.29  104.82     2.35   \n\nname   Vitamin A - IU  Vitamin B6  Vitamin C  \ncount         3770.00     3770.00    3770.00  \nmean          1168.79        0.51      16.29  \nstd           2321.84        0.31      24.36  \nmin              0.00        0.00       0.00  \n25%            236.94        0.28       2.15  \n50%            581.03        0.45       6.66  \n75%           1113.54        0.68      19.57  \nmax          38664.70        3.84     270.41  ",
      "text/html": "<div>\n<style scoped>\n    .dataframe tbody tr th:only-of-type {\n        vertical-align: middle;\n    }\n\n    .dataframe tbody tr th {\n        vertical-align: top;\n    }\n\n    .dataframe thead th {\n        text-align: right;\n    }\n</style>\n<table border=\"1\" class=\"dataframe\">\n  <thead>\n    <tr style=\"text-align: right;\">\n      <th>name</th>\n      <th>Calcium</th>\n      <th>Calories</th>\n      <th>Calories from Fat</th>\n      <th>Carbohydrates</th>\n      <th>Cholesterol</th>\n      <th>Dietary Fiber</th>\n      <th>Fat</th>\n      <th>Folate</th>\n      <th>Iron</th>\n      <th>Magnesium</th>\n      <th>Niacin Equivalents</th>\n      <th>Potassium</th>\n      <th>Protein</th>\n      <th>Saturated Fat</th>\n      <th>Sodium</th>\n      <th>Sugars</th>\n      <th>Thiamin</th>\n      <th>Vitamin A - IU</th>\n      <th>Vitamin B6</th>\n      <th>Vitamin C</th>\n    </tr>\n  </thead>\n  <tbody>\n    <tr>\n      <td>count</td>\n      <td>3770.00</td>\n      <td>3770.00</td>\n      <td>3770.00</td>\n      <td>3770.00</td>\n      <td>3770.00</td>\n      <td>3770.00</td>\n      <td>3770.00</td>\n      <td>3770.00</td>\n      <td>3770.00</td>\n      <td>3770.00</td>\n      <td>3770.00</td>\n      <td>3770.00</td>\n      <td>3770.00</td>\n      <td>3770.00</td>\n      <td>3770.00</td>\n      <td>3770.00</td>\n      <td>3770.00</td>\n      <td>3770.00</td>\n      <td>3770.00</td>\n      <td>3770.00</td>\n    </tr>\n    <tr>\n      <td>mean</td>\n      <td>147.62</td>\n      <td>437.41</td>\n      <td>206.09</td>\n      <td>29.14</td>\n      <td>97.13</td>\n      <td>2.60</td>\n      <td>22.90</td>\n      <td>60.51</td>\n      <td>3.15</td>\n      <td>51.42</td>\n      <td>12.44</td>\n      <td>532.02</td>\n      <td>28.05</td>\n      <td>8.75</td>\n      <td>851.17</td>\n      <td>6.73</td>\n      <td>0.30</td>\n      <td>1168.79</td>\n      <td>0.51</td>\n      <td>16.29</td>\n    </tr>\n    <tr>\n      <td>std</td>\n      <td>159.99</td>\n      <td>183.08</td>\n      <td>125.84</td>\n      <td>22.82</td>\n      <td>60.48</td>\n      <td>2.51</td>\n      <td>13.98</td>\n      <td>59.88</td>\n      <td>2.44</td>\n      <td>29.11</td>\n      <td>6.89</td>\n      <td>267.47</td>\n      <td>12.01</td>\n      <td>6.80</td>\n      <td>643.54</td>\n      <td>8.81</td>\n      <td>0.30</td>\n      <td>2321.84</td>\n      <td>0.31</td>\n      <td>24.36</td>\n    </tr>\n    <tr>\n      <td>min</td>\n      <td>2.25</td>\n      <td>51.34</td>\n      <td>1.32</td>\n      <td>0.00</td>\n      <td>0.00</td>\n      <td>0.00</td>\n      <td>0.15</td>\n      <td>0.00</td>\n      <td>0.20</td>\n      <td>1.00</td>\n      <td>0.04</td>\n      <td>21.36</td>\n      <td>0.75</td>\n      <td>0.02</td>\n      <td>5.20</td>\n      <td>0.00</td>\n      <td>0.00</td>\n      <td>0.00</td>\n      <td>0.00</td>\n      <td>0.00</td>\n    </tr>\n    <tr>\n      <td>25%</td>\n      <td>41.90</td>\n      <td>302.98</td>\n      <td>116.53</td>\n      <td>10.23</td>\n      <td>60.39</td>\n      <td>0.75</td>\n      <td>12.95</td>\n      <td>15.88</td>\n      <td>1.81</td>\n      <td>33.23</td>\n      <td>7.40</td>\n      <td>345.46</td>\n      <td>19.98</td>\n      <td>3.63</td>\n      <td>418.68</td>\n      <td>1.77</td>\n      <td>0.11</td>\n      <td>236.94</td>\n      <td>0.28</td>\n      <td>2.15</td>\n    </tr>\n    <tr>\n      <td>50%</td>\n      <td>83.17</td>\n      <td>407.19</td>\n      <td>182.76</td>\n      <td>24.79</td>\n      <td>85.16</td>\n      <td>1.95</td>\n      <td>20.31</td>\n      <td>38.70</td>\n      <td>2.77</td>\n      <td>45.93</td>\n      <td>11.16</td>\n      <td>480.73</td>\n      <td>26.87</td>\n      <td>7.17</td>\n      <td>734.11</td>\n      <td>3.91</td>\n      <td>0.20</td>\n      <td>581.03</td>\n      <td>0.45</td>\n      <td>6.66</td>\n    </tr>\n    <tr>\n      <td>75%</td>\n      <td>193.60</td>\n      <td>541.44</td>\n      <td>271.86</td>\n      <td>43.26</td>\n      <td>126.76</td>\n      <td>3.67</td>\n      <td>30.21</td>\n      <td>88.07</td>\n      <td>3.93</td>\n      <td>63.26</td>\n      <td>16.56</td>\n      <td>654.21</td>\n      <td>34.32</td>\n      <td>12.14</td>\n      <td>1092.86</td>\n      <td>7.84</td>\n      <td>0.40</td>\n      <td>1113.54</td>\n      <td>0.68</td>\n      <td>19.57</td>\n    </tr>\n    <tr>\n      <td>max</td>\n      <td>1264.33</td>\n      <td>1828.19</td>\n      <td>989.10</td>\n      <td>236.72</td>\n      <td>708.85</td>\n      <td>27.83</td>\n      <td>109.90</td>\n      <td>519.54</td>\n      <td>55.89</td>\n      <td>590.39</td>\n      <td>47.58</td>\n      <td>1931.49</td>\n      <td>99.73</td>\n      <td>59.31</td>\n      <td>7322.29</td>\n      <td>104.82</td>\n      <td>2.35</td>\n      <td>38664.70</td>\n      <td>3.84</td>\n      <td>270.41</td>\n    </tr>\n  </tbody>\n</table>\n</div>"
     },
     "metadata": {},
     "execution_count": 67
    }
   ],
   "source": [
    "nutrition_db2.describe()"
   ]
  },
  {
   "cell_type": "code",
   "execution_count": 68,
   "metadata": {},
   "outputs": [],
   "source": [
    "wo_outlier_nut = nutrition_db2[['Calories', 'Fat', 'Protein', 'Carbohydrates', 'Dietary Fiber', 'Iron', 'Calcium', 'Magnesium' ]]"
   ]
  },
  {
   "cell_type": "code",
   "execution_count": 69,
   "metadata": {},
   "outputs": [
    {
     "output_type": "execute_result",
     "data": {
      "text/plain": "name   Calories     Fat  Protein  Carbohydrates  Dietary Fiber    Iron  \\\ncount   3770.00 3770.00  3770.00        3770.00        3770.00 3770.00   \nmean     437.41   22.90    28.05          29.14           2.60    3.15   \nstd      183.08   13.98    12.01          22.82           2.51    2.44   \nmin       51.34    0.15     0.75           0.00           0.00    0.20   \n25%      302.98   12.95    19.98          10.23           0.75    1.81   \n50%      407.19   20.31    26.87          24.79           1.95    2.77   \n75%      541.44   30.21    34.32          43.26           3.67    3.93   \nmax     1828.19  109.90    99.73         236.72          27.83   55.89   \n\nname   Calcium  Magnesium  \ncount  3770.00    3770.00  \nmean    147.62      51.42  \nstd     159.99      29.11  \nmin       2.25       1.00  \n25%      41.90      33.23  \n50%      83.17      45.93  \n75%     193.60      63.26  \nmax    1264.33     590.39  ",
      "text/html": "<div>\n<style scoped>\n    .dataframe tbody tr th:only-of-type {\n        vertical-align: middle;\n    }\n\n    .dataframe tbody tr th {\n        vertical-align: top;\n    }\n\n    .dataframe thead th {\n        text-align: right;\n    }\n</style>\n<table border=\"1\" class=\"dataframe\">\n  <thead>\n    <tr style=\"text-align: right;\">\n      <th>name</th>\n      <th>Calories</th>\n      <th>Fat</th>\n      <th>Protein</th>\n      <th>Carbohydrates</th>\n      <th>Dietary Fiber</th>\n      <th>Iron</th>\n      <th>Calcium</th>\n      <th>Magnesium</th>\n    </tr>\n  </thead>\n  <tbody>\n    <tr>\n      <td>count</td>\n      <td>3770.00</td>\n      <td>3770.00</td>\n      <td>3770.00</td>\n      <td>3770.00</td>\n      <td>3770.00</td>\n      <td>3770.00</td>\n      <td>3770.00</td>\n      <td>3770.00</td>\n    </tr>\n    <tr>\n      <td>mean</td>\n      <td>437.41</td>\n      <td>22.90</td>\n      <td>28.05</td>\n      <td>29.14</td>\n      <td>2.60</td>\n      <td>3.15</td>\n      <td>147.62</td>\n      <td>51.42</td>\n    </tr>\n    <tr>\n      <td>std</td>\n      <td>183.08</td>\n      <td>13.98</td>\n      <td>12.01</td>\n      <td>22.82</td>\n      <td>2.51</td>\n      <td>2.44</td>\n      <td>159.99</td>\n      <td>29.11</td>\n    </tr>\n    <tr>\n      <td>min</td>\n      <td>51.34</td>\n      <td>0.15</td>\n      <td>0.75</td>\n      <td>0.00</td>\n      <td>0.00</td>\n      <td>0.20</td>\n      <td>2.25</td>\n      <td>1.00</td>\n    </tr>\n    <tr>\n      <td>25%</td>\n      <td>302.98</td>\n      <td>12.95</td>\n      <td>19.98</td>\n      <td>10.23</td>\n      <td>0.75</td>\n      <td>1.81</td>\n      <td>41.90</td>\n      <td>33.23</td>\n    </tr>\n    <tr>\n      <td>50%</td>\n      <td>407.19</td>\n      <td>20.31</td>\n      <td>26.87</td>\n      <td>24.79</td>\n      <td>1.95</td>\n      <td>2.77</td>\n      <td>83.17</td>\n      <td>45.93</td>\n    </tr>\n    <tr>\n      <td>75%</td>\n      <td>541.44</td>\n      <td>30.21</td>\n      <td>34.32</td>\n      <td>43.26</td>\n      <td>3.67</td>\n      <td>3.93</td>\n      <td>193.60</td>\n      <td>63.26</td>\n    </tr>\n    <tr>\n      <td>max</td>\n      <td>1828.19</td>\n      <td>109.90</td>\n      <td>99.73</td>\n      <td>236.72</td>\n      <td>27.83</td>\n      <td>55.89</td>\n      <td>1264.33</td>\n      <td>590.39</td>\n    </tr>\n  </tbody>\n</table>\n</div>"
     },
     "metadata": {},
     "execution_count": 69
    }
   ],
   "source": [
    "wo_outlier_nut.describe()"
   ]
  },
  {
   "cell_type": "code",
   "execution_count": 94,
   "metadata": {},
   "outputs": [
    {
     "output_type": "execute_result",
     "data": {
      "text/plain": "name   Calories     Fat  Protein  Carbohydrates  Dietary Fiber    Iron  \\\ncount   4062.00 4062.00  4062.00        4062.00        4062.00 4062.00   \nmean     436.38   22.82    27.76          29.33           2.63    3.17   \nstd      208.87   15.78    13.36          23.54           2.64    2.61   \nmin       13.63    0.10     0.45           0.00           0.00    0.07   \n25%      293.54   12.33    19.11          10.18           0.72    1.76   \n50%      402.20   19.90    26.44          24.77           1.91    2.73   \n75%      543.93   30.01    34.30          43.31           3.67    3.95   \nmax     4709.20  383.92   273.22         236.72          27.83   55.89   \n\nname   Calcium  Magnesium  \ncount  4062.00    4062.00  \nmean    146.25      51.62  \nstd     159.44      32.33  \nmin       0.93       0.86  \n25%      41.70      31.96  \n50%      82.98      45.61  \n75%     191.85      63.72  \nmax    1264.33     590.39  ",
      "text/html": "<div>\n<style scoped>\n    .dataframe tbody tr th:only-of-type {\n        vertical-align: middle;\n    }\n\n    .dataframe tbody tr th {\n        vertical-align: top;\n    }\n\n    .dataframe thead th {\n        text-align: right;\n    }\n</style>\n<table border=\"1\" class=\"dataframe\">\n  <thead>\n    <tr style=\"text-align: right;\">\n      <th>name</th>\n      <th>Calories</th>\n      <th>Fat</th>\n      <th>Protein</th>\n      <th>Carbohydrates</th>\n      <th>Dietary Fiber</th>\n      <th>Iron</th>\n      <th>Calcium</th>\n      <th>Magnesium</th>\n    </tr>\n  </thead>\n  <tbody>\n    <tr>\n      <td>count</td>\n      <td>4062.00</td>\n      <td>4062.00</td>\n      <td>4062.00</td>\n      <td>4062.00</td>\n      <td>4062.00</td>\n      <td>4062.00</td>\n      <td>4062.00</td>\n      <td>4062.00</td>\n    </tr>\n    <tr>\n      <td>mean</td>\n      <td>436.38</td>\n      <td>22.82</td>\n      <td>27.76</td>\n      <td>29.33</td>\n      <td>2.63</td>\n      <td>3.17</td>\n      <td>146.25</td>\n      <td>51.62</td>\n    </tr>\n    <tr>\n      <td>std</td>\n      <td>208.87</td>\n      <td>15.78</td>\n      <td>13.36</td>\n      <td>23.54</td>\n      <td>2.64</td>\n      <td>2.61</td>\n      <td>159.44</td>\n      <td>32.33</td>\n    </tr>\n    <tr>\n      <td>min</td>\n      <td>13.63</td>\n      <td>0.10</td>\n      <td>0.45</td>\n      <td>0.00</td>\n      <td>0.00</td>\n      <td>0.07</td>\n      <td>0.93</td>\n      <td>0.86</td>\n    </tr>\n    <tr>\n      <td>25%</td>\n      <td>293.54</td>\n      <td>12.33</td>\n      <td>19.11</td>\n      <td>10.18</td>\n      <td>0.72</td>\n      <td>1.76</td>\n      <td>41.70</td>\n      <td>31.96</td>\n    </tr>\n    <tr>\n      <td>50%</td>\n      <td>402.20</td>\n      <td>19.90</td>\n      <td>26.44</td>\n      <td>24.77</td>\n      <td>1.91</td>\n      <td>2.73</td>\n      <td>82.98</td>\n      <td>45.61</td>\n    </tr>\n    <tr>\n      <td>75%</td>\n      <td>543.93</td>\n      <td>30.01</td>\n      <td>34.30</td>\n      <td>43.31</td>\n      <td>3.67</td>\n      <td>3.95</td>\n      <td>191.85</td>\n      <td>63.72</td>\n    </tr>\n    <tr>\n      <td>max</td>\n      <td>4709.20</td>\n      <td>383.92</td>\n      <td>273.22</td>\n      <td>236.72</td>\n      <td>27.83</td>\n      <td>55.89</td>\n      <td>1264.33</td>\n      <td>590.39</td>\n    </tr>\n  </tbody>\n</table>\n</div>"
     },
     "metadata": {},
     "execution_count": 94
    }
   ],
   "source": [
    "w_outlier_nut.describe()"
   ]
  },
  {
   "cell_type": "code",
   "execution_count": 70,
   "metadata": {},
   "outputs": [],
   "source": [
    "#https://www.ncbi.nlm.nih.gov/books/NBK56068/table/summarytables.t4/?report=objectonly\n",
    "#https://www.ncbi.nlm.nih.gov/books/NBK56068/table/summarytables.t1/?report=objectonly\n",
    "#https://www.ncbi.nlm.nih.gov/books/NBK56068/table/summarytables.t5/?report=objectonly\n",
    "#männer alter 31 - 50 pro tag geteil durch 3 mahlzeiten\n",
    "\n",
    "recommenden_nut_low_fat = pd.DataFrame(data=None, columns=nutrition_db2.columns, index=None)\n",
    "\n",
    "\n",
    "recommenden_nut_low_fat.loc['index'] = [\n",
    "    # \"Calcium\":[1],\n",
    "    266.67,\n",
    "    # \"Calories\":[1],\n",
    "    716,\n",
    "    # \"Calories from Fat\":[1],\n",
    "    0,\n",
    "    # \"Carbohydrates\":[1],\n",
    "    103.7,\n",
    "    # \"Cholesterol\":[1],\n",
    "    0,\n",
    "    # \"Dietary Fiber\t\":[1],\n",
    "    12.67,\n",
    "    # \"Fat\":[1],16.67,\n",
    "    10,\n",
    "    # \"Folate\":[1],\n",
    "    133.3, \n",
    "    # \"Iron\":[1],\n",
    "    2,\n",
    "    # \"Magnesium\":[1],\n",
    "    116.67, \n",
    "    # \"Niacin Equivalents\":[1],\n",
    "    4,\n",
    "    # \"Potassium\":[1],\n",
    "    1,\n",
    "    # \"Protein\":[1],\n",
    "    51.75,\n",
    "    # \"Saturated Fat\":[1],\n",
    "    1,\n",
    "    # \"Sodium\":[1],\n",
    "    1,\n",
    "    # \"Sugars\":[1],\n",
    "    1,\n",
    "    # \"Thiamin\":[1],\n",
    "    0.3, \n",
    "    # \"Vitamin A - IU\":[1],\n",
    "    208, \n",
    "    # \"Vitamin B6\":[1],\n",
    "    0.36, \n",
    "    # \"Vitamin C\":[1]}\n",
    "    25] "
   ]
  },
  {
   "cell_type": "code",
   "execution_count": 71,
   "metadata": {},
   "outputs": [],
   "source": [
    "no_weight = [\n",
    "    # \"Calcium\":[1],\n",
    "    1,\n",
    "    # \"Calories\":[1],\n",
    "    1,\n",
    "    # \"Calories from Fat\":[1],\n",
    "    1,\n",
    "    # \"Carbohydrates\":[1],\n",
    "    1,\n",
    "    # \"Cholesterol\":[1],\n",
    "    1,\n",
    "    # \"Dietary Fiber\t\":[1],\n",
    "    1,\n",
    "    # \"Fat\":[1],\n",
    "    1,\n",
    "    # \"Folate\":[1],\n",
    "    1,\n",
    "    # \"Iron\":[1],\n",
    "    1,\n",
    "    # \"Magnesium\":[1],\n",
    "    1,\n",
    "    # \"Niacin Equivalents\":[1],\n",
    "    1,\n",
    "    # \"Potassium\":[1],\n",
    "    1,\n",
    "    # \"Protein\":[1],\n",
    "    1,\n",
    "    # \"Saturated Fat\":[1],\n",
    "    1,\n",
    "    # \"Sodium\":[1],\n",
    "    1,\n",
    "    # \"Sugars\":[1],\n",
    "    1,\n",
    "    # \"Thiamin\":[1],\n",
    "    1,\n",
    "    # \"Vitamin A - IU\":[1],\n",
    "    1,\n",
    "    # \"Vitamin B6\":[1],\n",
    "    1,\n",
    "    # \"Vitamin C\":[1]}\n",
    "    1]\n",
    "\n",
    "weighted_fat = [\n",
    "    # \"Calcium\":[1],\n",
    "    1,\n",
    "    # \"Calories\":[1],\n",
    "    10,\n",
    "    # \"Calories from Fat\":[1],\n",
    "    1,\n",
    "    # \"Carbohydrates\":[1],\n",
    "    10,\n",
    "    # \"Cholesterol\":[1],\n",
    "    1,\n",
    "    # \"Dietary Fiber\t\":[1],\n",
    "    1,\n",
    "    # \"Fat\":[1],\n",
    "    10000,\n",
    "    # \"Folate\":[1],\n",
    "    1,\n",
    "    # \"Iron\":[1],\n",
    "    1,\n",
    "    # \"Magnesium\":[1],\n",
    "    1,\n",
    "    # \"Niacin Equivalents\":[1],\n",
    "    1,\n",
    "    # \"Potassium\":[1],\n",
    "    1,\n",
    "    # \"Protein\":[1],\n",
    "    10,\n",
    "    # \"Saturated Fat\":[1],\n",
    "    1,\n",
    "    # \"Sodium\":[1],\n",
    "    1,\n",
    "    # \"Sugars\":[1],\n",
    "    1,\n",
    "    # \"Thiamin\":[1],\n",
    "    1,\n",
    "    # \"Vitamin A - IU\":[1],\n",
    "    1,\n",
    "    # \"Vitamin B6\":[1],\n",
    "    1,\n",
    "    # \"Vitamin C\":[1]}\n",
    "    1]\n",
    "\n"
   ]
  },
  {
   "cell_type": "code",
   "execution_count": 72,
   "metadata": {},
   "outputs": [],
   "source": [
    "result_w_filter_fat_100 = result_w_filter_10_fat[0:500].copy()\n",
    "result_w_filter_fat_100['pos'] = np.arange(len(result_w_filter_fat_100))\n",
    "result_w_filter_fat_100 = result_w_filter_fat_100.reset_index()\n",
    "result_w_filter_fat_100 = result_w_filter_fat_100.set_index('index')"
   ]
  },
  {
   "cell_type": "code",
   "execution_count": 205,
   "metadata": {},
   "outputs": [],
   "source": []
  },
  {
   "cell_type": "code",
   "execution_count": 73,
   "metadata": {},
   "outputs": [],
   "source": [
    "nutrition_fat_naiv = nutrition_db2[nutrition_db2.index.isin(result_w_filter_fat_100.index.to_numpy())]"
   ]
  },
  {
   "cell_type": "code",
   "execution_count": 74,
   "metadata": {},
   "outputs": [
    {
     "output_type": "execute_result",
     "data": {
      "text/plain": "        euclid_distance_sum\n9043                1057.73\n18440               1272.45\n61824               1279.47\n21699               1362.52\n20004               1371.50\n159456              1372.93\n26640               1379.87\n11961               1380.25\n62212               1385.98\n48477               1391.20",
      "text/html": "<div>\n<style scoped>\n    .dataframe tbody tr th:only-of-type {\n        vertical-align: middle;\n    }\n\n    .dataframe tbody tr th {\n        vertical-align: top;\n    }\n\n    .dataframe thead th {\n        text-align: right;\n    }\n</style>\n<table border=\"1\" class=\"dataframe\">\n  <thead>\n    <tr style=\"text-align: right;\">\n      <th></th>\n      <th>euclid_distance_sum</th>\n    </tr>\n  </thead>\n  <tbody>\n    <tr>\n      <td>9043</td>\n      <td>1057.73</td>\n    </tr>\n    <tr>\n      <td>18440</td>\n      <td>1272.45</td>\n    </tr>\n    <tr>\n      <td>61824</td>\n      <td>1279.47</td>\n    </tr>\n    <tr>\n      <td>21699</td>\n      <td>1362.52</td>\n    </tr>\n    <tr>\n      <td>20004</td>\n      <td>1371.50</td>\n    </tr>\n    <tr>\n      <td>159456</td>\n      <td>1372.93</td>\n    </tr>\n    <tr>\n      <td>26640</td>\n      <td>1379.87</td>\n    </tr>\n    <tr>\n      <td>11961</td>\n      <td>1380.25</td>\n    </tr>\n    <tr>\n      <td>62212</td>\n      <td>1385.98</td>\n    </tr>\n    <tr>\n      <td>48477</td>\n      <td>1391.20</td>\n    </tr>\n  </tbody>\n</table>\n</div>"
     },
     "metadata": {},
     "execution_count": 74
    }
   ],
   "source": [
    "# euklidische distanz für nährwerte\n",
    "\n",
    "result_array = cdist(recommenden_nut_low_fat, nutrition_fat_naiv, 'minkowski', p=2, w=weighted_fat)\n",
    "euclid_distance = pd.DataFrame(\n",
    "    result_array, columns=nutrition_fat_naiv.index.values, index=recommenden_nut_low_fat.index.values)\n",
    "\n",
    "euclid_distance_sum_fat_naiv = pd.DataFrame(euclid_distance.sum(), columns=['euclid_distance_sum'])\n",
    "euclid_distance_sum_fat_naiv = euclid_distance_sum_fat_naiv.sort_values(by='euclid_distance_sum')\n",
    "euclid_distance_sum_fat_naiv[0:10]\n",
    "\n"
   ]
  },
  {
   "cell_type": "code",
   "execution_count": null,
   "metadata": {},
   "outputs": [],
   "source": []
  },
  {
   "cell_type": "code",
   "execution_count": 75,
   "metadata": {},
   "outputs": [],
   "source": [
    "jaccard_euclid_joined_fat_naiv = pd.merge(euclid_distance_sum_fat_naiv, result_w_filter_fat_100, left_index=True, right_index=True)"
   ]
  },
  {
   "cell_type": "code",
   "execution_count": 76,
   "metadata": {},
   "outputs": [
    {
     "output_type": "execute_result",
     "data": {
      "text/plain": "        euclid_distance_sum  jaccard_distance_sum  pos\n9043                1057.73                  0.95  360\n18440               1272.45                  0.93  134\n61824               1279.47                  0.94  251\n21699               1362.52                  0.93  163\n20004               1371.50                  0.95  327\n159456              1372.93                  0.96  475\n26640               1379.87                  0.95  375\n11961               1380.25                  0.96  490\n62212               1385.98                  0.92   51\n48477               1391.20                  0.92   60",
      "text/html": "<div>\n<style scoped>\n    .dataframe tbody tr th:only-of-type {\n        vertical-align: middle;\n    }\n\n    .dataframe tbody tr th {\n        vertical-align: top;\n    }\n\n    .dataframe thead th {\n        text-align: right;\n    }\n</style>\n<table border=\"1\" class=\"dataframe\">\n  <thead>\n    <tr style=\"text-align: right;\">\n      <th></th>\n      <th>euclid_distance_sum</th>\n      <th>jaccard_distance_sum</th>\n      <th>pos</th>\n    </tr>\n  </thead>\n  <tbody>\n    <tr>\n      <td>9043</td>\n      <td>1057.73</td>\n      <td>0.95</td>\n      <td>360</td>\n    </tr>\n    <tr>\n      <td>18440</td>\n      <td>1272.45</td>\n      <td>0.93</td>\n      <td>134</td>\n    </tr>\n    <tr>\n      <td>61824</td>\n      <td>1279.47</td>\n      <td>0.94</td>\n      <td>251</td>\n    </tr>\n    <tr>\n      <td>21699</td>\n      <td>1362.52</td>\n      <td>0.93</td>\n      <td>163</td>\n    </tr>\n    <tr>\n      <td>20004</td>\n      <td>1371.50</td>\n      <td>0.95</td>\n      <td>327</td>\n    </tr>\n    <tr>\n      <td>159456</td>\n      <td>1372.93</td>\n      <td>0.96</td>\n      <td>475</td>\n    </tr>\n    <tr>\n      <td>26640</td>\n      <td>1379.87</td>\n      <td>0.95</td>\n      <td>375</td>\n    </tr>\n    <tr>\n      <td>11961</td>\n      <td>1380.25</td>\n      <td>0.96</td>\n      <td>490</td>\n    </tr>\n    <tr>\n      <td>62212</td>\n      <td>1385.98</td>\n      <td>0.92</td>\n      <td>51</td>\n    </tr>\n    <tr>\n      <td>48477</td>\n      <td>1391.20</td>\n      <td>0.92</td>\n      <td>60</td>\n    </tr>\n  </tbody>\n</table>\n</div>"
     },
     "metadata": {},
     "execution_count": 76
    }
   ],
   "source": [
    "jaccard_euclid_joined_fat_naiv[0:10]"
   ]
  },
  {
   "cell_type": "code",
   "execution_count": 77,
   "metadata": {},
   "outputs": [],
   "source": [
    "nutrition_top10_fat_naiv = nutrition_db2[nutrition_db2.index.isin(jaccard_euclid_joined_fat_naiv[0:10].index.to_numpy())]"
   ]
  },
  {
   "cell_type": "code",
   "execution_count": 78,
   "metadata": {},
   "outputs": [
    {
     "output_type": "execute_result",
     "data": {
      "text/plain": "name   Calories   Fat  Protein  Carbohydrates  Dietary Fiber  Iron  Calcium  \\\ncount     10.00 10.00    10.00          10.00          10.00 10.00    10.00   \nmean     441.38 13.69    24.04          54.71           5.42  4.39   160.90   \nstd       64.21  3.43     7.34          12.67           5.58  1.63    86.59   \nmin      316.96  7.94    11.78          39.48           1.03  2.60    14.76   \n25%      414.03 10.88    21.37          46.64           2.70  3.07    99.26   \n50%      458.06 14.59    23.09          50.17           2.90  4.14   172.27   \n75%      467.09 16.10    26.77          63.11           4.10  5.26   207.37   \nmax      546.36 17.66    37.92          80.65          17.09  7.72   282.49   \n\nname   Magnesium  \ncount      10.00  \nmean       61.28  \nstd        31.10  \nmin        15.32  \n25%        43.03  \n50%        58.63  \n75%        71.01  \nmax       132.42  ",
      "text/html": "<div>\n<style scoped>\n    .dataframe tbody tr th:only-of-type {\n        vertical-align: middle;\n    }\n\n    .dataframe tbody tr th {\n        vertical-align: top;\n    }\n\n    .dataframe thead th {\n        text-align: right;\n    }\n</style>\n<table border=\"1\" class=\"dataframe\">\n  <thead>\n    <tr style=\"text-align: right;\">\n      <th>name</th>\n      <th>Calories</th>\n      <th>Fat</th>\n      <th>Protein</th>\n      <th>Carbohydrates</th>\n      <th>Dietary Fiber</th>\n      <th>Iron</th>\n      <th>Calcium</th>\n      <th>Magnesium</th>\n    </tr>\n  </thead>\n  <tbody>\n    <tr>\n      <td>count</td>\n      <td>10.00</td>\n      <td>10.00</td>\n      <td>10.00</td>\n      <td>10.00</td>\n      <td>10.00</td>\n      <td>10.00</td>\n      <td>10.00</td>\n      <td>10.00</td>\n    </tr>\n    <tr>\n      <td>mean</td>\n      <td>441.38</td>\n      <td>13.69</td>\n      <td>24.04</td>\n      <td>54.71</td>\n      <td>5.42</td>\n      <td>4.39</td>\n      <td>160.90</td>\n      <td>61.28</td>\n    </tr>\n    <tr>\n      <td>std</td>\n      <td>64.21</td>\n      <td>3.43</td>\n      <td>7.34</td>\n      <td>12.67</td>\n      <td>5.58</td>\n      <td>1.63</td>\n      <td>86.59</td>\n      <td>31.10</td>\n    </tr>\n    <tr>\n      <td>min</td>\n      <td>316.96</td>\n      <td>7.94</td>\n      <td>11.78</td>\n      <td>39.48</td>\n      <td>1.03</td>\n      <td>2.60</td>\n      <td>14.76</td>\n      <td>15.32</td>\n    </tr>\n    <tr>\n      <td>25%</td>\n      <td>414.03</td>\n      <td>10.88</td>\n      <td>21.37</td>\n      <td>46.64</td>\n      <td>2.70</td>\n      <td>3.07</td>\n      <td>99.26</td>\n      <td>43.03</td>\n    </tr>\n    <tr>\n      <td>50%</td>\n      <td>458.06</td>\n      <td>14.59</td>\n      <td>23.09</td>\n      <td>50.17</td>\n      <td>2.90</td>\n      <td>4.14</td>\n      <td>172.27</td>\n      <td>58.63</td>\n    </tr>\n    <tr>\n      <td>75%</td>\n      <td>467.09</td>\n      <td>16.10</td>\n      <td>26.77</td>\n      <td>63.11</td>\n      <td>4.10</td>\n      <td>5.26</td>\n      <td>207.37</td>\n      <td>71.01</td>\n    </tr>\n    <tr>\n      <td>max</td>\n      <td>546.36</td>\n      <td>17.66</td>\n      <td>37.92</td>\n      <td>80.65</td>\n      <td>17.09</td>\n      <td>7.72</td>\n      <td>282.49</td>\n      <td>132.42</td>\n    </tr>\n  </tbody>\n</table>\n</div>"
     },
     "metadata": {},
     "execution_count": 78
    }
   ],
   "source": [
    "nutrition_top10_fat_naiv = nutrition_top10_fat_naiv[['Calories', 'Fat', 'Protein', 'Carbohydrates', 'Dietary Fiber', 'Iron', 'Calcium', 'Magnesium' ]]\n",
    "nutrition_top10_fat_naiv.describe()"
   ]
  },
  {
   "cell_type": "code",
   "execution_count": 79,
   "metadata": {},
   "outputs": [
    {
     "output_type": "execute_result",
     "data": {
      "text/plain": "array([  9043,  11961,  18440,  20004,  21699,  26640,  48477,  61824,\n        62212, 159456])"
     },
     "metadata": {},
     "execution_count": 79
    }
   ],
   "source": [
    "nutrition_top10_fat_naiv.index.to_numpy()"
   ]
  },
  {
   "cell_type": "code",
   "execution_count": 80,
   "metadata": {},
   "outputs": [],
   "source": [
    "nutrition_fat_naiv_copy = nutrition_fat_naiv[['Calories', 'Fat', 'Protein', 'Carbohydrates', 'Dietary Fiber', 'Iron', 'Calcium', 'Magnesium' ]]"
   ]
  },
  {
   "cell_type": "code",
   "execution_count": 81,
   "metadata": {},
   "outputs": [
    {
     "output_type": "execute_result",
     "data": {
      "text/plain": "name   Calories    Fat  Protein  Carbohydrates  Dietary Fiber   Iron  Calcium  \\\ncount    500.00 500.00   500.00         500.00         500.00 500.00   500.00   \nmean     507.62  28.10    27.86          35.73           3.24   3.37   293.79   \nstd      175.36  12.53    10.74          18.85           2.63   1.52   184.09   \nmin       92.89   1.81     3.68           1.15           0.00   0.49    14.76   \n25%      375.38  18.70    20.01          23.46           1.46   2.26   153.91   \n50%      481.01  26.15    26.77          33.23           2.66   3.12   268.40   \n75%      612.43  35.06    33.57          46.82           4.19   4.26   396.70   \nmax     1203.63  79.29    74.17         127.42          19.62  10.34  1264.33   \n\nname   Magnesium  \ncount     500.00  \nmean       53.79  \nstd        23.85  \nmin         8.57  \n25%        35.69  \n50%        50.88  \n75%        66.11  \nmax       151.16  ",
      "text/html": "<div>\n<style scoped>\n    .dataframe tbody tr th:only-of-type {\n        vertical-align: middle;\n    }\n\n    .dataframe tbody tr th {\n        vertical-align: top;\n    }\n\n    .dataframe thead th {\n        text-align: right;\n    }\n</style>\n<table border=\"1\" class=\"dataframe\">\n  <thead>\n    <tr style=\"text-align: right;\">\n      <th>name</th>\n      <th>Calories</th>\n      <th>Fat</th>\n      <th>Protein</th>\n      <th>Carbohydrates</th>\n      <th>Dietary Fiber</th>\n      <th>Iron</th>\n      <th>Calcium</th>\n      <th>Magnesium</th>\n    </tr>\n  </thead>\n  <tbody>\n    <tr>\n      <td>count</td>\n      <td>500.00</td>\n      <td>500.00</td>\n      <td>500.00</td>\n      <td>500.00</td>\n      <td>500.00</td>\n      <td>500.00</td>\n      <td>500.00</td>\n      <td>500.00</td>\n    </tr>\n    <tr>\n      <td>mean</td>\n      <td>507.62</td>\n      <td>28.10</td>\n      <td>27.86</td>\n      <td>35.73</td>\n      <td>3.24</td>\n      <td>3.37</td>\n      <td>293.79</td>\n      <td>53.79</td>\n    </tr>\n    <tr>\n      <td>std</td>\n      <td>175.36</td>\n      <td>12.53</td>\n      <td>10.74</td>\n      <td>18.85</td>\n      <td>2.63</td>\n      <td>1.52</td>\n      <td>184.09</td>\n      <td>23.85</td>\n    </tr>\n    <tr>\n      <td>min</td>\n      <td>92.89</td>\n      <td>1.81</td>\n      <td>3.68</td>\n      <td>1.15</td>\n      <td>0.00</td>\n      <td>0.49</td>\n      <td>14.76</td>\n      <td>8.57</td>\n    </tr>\n    <tr>\n      <td>25%</td>\n      <td>375.38</td>\n      <td>18.70</td>\n      <td>20.01</td>\n      <td>23.46</td>\n      <td>1.46</td>\n      <td>2.26</td>\n      <td>153.91</td>\n      <td>35.69</td>\n    </tr>\n    <tr>\n      <td>50%</td>\n      <td>481.01</td>\n      <td>26.15</td>\n      <td>26.77</td>\n      <td>33.23</td>\n      <td>2.66</td>\n      <td>3.12</td>\n      <td>268.40</td>\n      <td>50.88</td>\n    </tr>\n    <tr>\n      <td>75%</td>\n      <td>612.43</td>\n      <td>35.06</td>\n      <td>33.57</td>\n      <td>46.82</td>\n      <td>4.19</td>\n      <td>4.26</td>\n      <td>396.70</td>\n      <td>66.11</td>\n    </tr>\n    <tr>\n      <td>max</td>\n      <td>1203.63</td>\n      <td>79.29</td>\n      <td>74.17</td>\n      <td>127.42</td>\n      <td>19.62</td>\n      <td>10.34</td>\n      <td>1264.33</td>\n      <td>151.16</td>\n    </tr>\n  </tbody>\n</table>\n</div>"
     },
     "metadata": {},
     "execution_count": 81
    }
   ],
   "source": [
    "nutrition_fat_naiv_copy.describe()"
   ]
  },
  {
   "cell_type": "code",
   "execution_count": 82,
   "metadata": {},
   "outputs": [],
   "source": [
    "subset_fat_asd = nutrition_fat_naiv[(nutrition_fat_naiv['Fat'] >= 10) & (nutrition_fat_naiv['Fat'] <= 15)].sample(n=1).copy()"
   ]
  },
  {
   "cell_type": "code",
   "execution_count": 83,
   "metadata": {},
   "outputs": [
    {
     "output_type": "execute_result",
     "data": {
      "text/plain": "(153, 20)"
     },
     "metadata": {},
     "execution_count": 83
    }
   ],
   "source": [
    "nutrition_fat_naiv[(nutrition_fat_naiv['Fat'] >= 1) & (nutrition_fat_naiv['Fat'] <= 20)].shape"
   ]
  },
  {
   "cell_type": "code",
   "execution_count": null,
   "metadata": {},
   "outputs": [],
   "source": []
  },
  {
   "cell_type": "code",
   "execution_count": 84,
   "metadata": {},
   "outputs": [],
   "source": [
    "#nutrition_random_10 = nutrition_db2[nutrition_db2.index.isin(new_recipe_db_wo_userrecipes_fat.sample(n=10, random_state=0).index.to_numpy())]\n",
    "nutrition_random_10 = nutrition_db2[nutrition_db2.index.isin(new_recipe_db_wo_userrecipes_fat.sample(n=10).index.to_numpy())]"
   ]
  },
  {
   "cell_type": "code",
   "execution_count": 85,
   "metadata": {},
   "outputs": [
    {
     "output_type": "execute_result",
     "data": {
      "text/plain": "name   Calories   Fat  Protein  Carbohydrates  Dietary Fiber  Iron  Calcium  \\\ncount     10.00 10.00    10.00          10.00          10.00 10.00    10.00   \nmean     478.81 25.55    27.72          31.72           3.16  3.22   189.52   \nstd      235.48 17.03    12.99          19.73           2.96  2.14   229.37   \nmin      170.64  6.36     4.11          10.65           0.09  0.66    19.58   \n25%      304.05 11.35    18.69          14.63           1.41  1.93    44.25   \n50%      461.29 22.57    30.61          26.30           1.94  2.16    93.22   \n75%      667.02 32.89    35.30          44.97           4.62  4.39   289.92   \nmax      878.44 58.37    44.78          64.00           9.11  6.74   736.59   \n\nname   Magnesium  \ncount      10.00  \nmean       53.16  \nstd        31.16  \nmin        15.73  \n25%        32.93  \n50%        43.00  \n75%        66.28  \nmax       110.71  ",
      "text/html": "<div>\n<style scoped>\n    .dataframe tbody tr th:only-of-type {\n        vertical-align: middle;\n    }\n\n    .dataframe tbody tr th {\n        vertical-align: top;\n    }\n\n    .dataframe thead th {\n        text-align: right;\n    }\n</style>\n<table border=\"1\" class=\"dataframe\">\n  <thead>\n    <tr style=\"text-align: right;\">\n      <th>name</th>\n      <th>Calories</th>\n      <th>Fat</th>\n      <th>Protein</th>\n      <th>Carbohydrates</th>\n      <th>Dietary Fiber</th>\n      <th>Iron</th>\n      <th>Calcium</th>\n      <th>Magnesium</th>\n    </tr>\n  </thead>\n  <tbody>\n    <tr>\n      <td>count</td>\n      <td>10.00</td>\n      <td>10.00</td>\n      <td>10.00</td>\n      <td>10.00</td>\n      <td>10.00</td>\n      <td>10.00</td>\n      <td>10.00</td>\n      <td>10.00</td>\n    </tr>\n    <tr>\n      <td>mean</td>\n      <td>478.81</td>\n      <td>25.55</td>\n      <td>27.72</td>\n      <td>31.72</td>\n      <td>3.16</td>\n      <td>3.22</td>\n      <td>189.52</td>\n      <td>53.16</td>\n    </tr>\n    <tr>\n      <td>std</td>\n      <td>235.48</td>\n      <td>17.03</td>\n      <td>12.99</td>\n      <td>19.73</td>\n      <td>2.96</td>\n      <td>2.14</td>\n      <td>229.37</td>\n      <td>31.16</td>\n    </tr>\n    <tr>\n      <td>min</td>\n      <td>170.64</td>\n      <td>6.36</td>\n      <td>4.11</td>\n      <td>10.65</td>\n      <td>0.09</td>\n      <td>0.66</td>\n      <td>19.58</td>\n      <td>15.73</td>\n    </tr>\n    <tr>\n      <td>25%</td>\n      <td>304.05</td>\n      <td>11.35</td>\n      <td>18.69</td>\n      <td>14.63</td>\n      <td>1.41</td>\n      <td>1.93</td>\n      <td>44.25</td>\n      <td>32.93</td>\n    </tr>\n    <tr>\n      <td>50%</td>\n      <td>461.29</td>\n      <td>22.57</td>\n      <td>30.61</td>\n      <td>26.30</td>\n      <td>1.94</td>\n      <td>2.16</td>\n      <td>93.22</td>\n      <td>43.00</td>\n    </tr>\n    <tr>\n      <td>75%</td>\n      <td>667.02</td>\n      <td>32.89</td>\n      <td>35.30</td>\n      <td>44.97</td>\n      <td>4.62</td>\n      <td>4.39</td>\n      <td>289.92</td>\n      <td>66.28</td>\n    </tr>\n    <tr>\n      <td>max</td>\n      <td>878.44</td>\n      <td>58.37</td>\n      <td>44.78</td>\n      <td>64.00</td>\n      <td>9.11</td>\n      <td>6.74</td>\n      <td>736.59</td>\n      <td>110.71</td>\n    </tr>\n  </tbody>\n</table>\n</div>"
     },
     "metadata": {},
     "execution_count": 85
    }
   ],
   "source": [
    "nutrition_random_10 = nutrition_random_10[['Calories', 'Fat', 'Protein', 'Carbohydrates', 'Dietary Fiber', 'Iron', 'Calcium', 'Magnesium' ]]\n",
    "nutrition_random_10.describe()"
   ]
  },
  {
   "cell_type": "code",
   "execution_count": 86,
   "metadata": {},
   "outputs": [
    {
     "output_type": "execute_result",
     "data": {
      "text/plain": "array([ 12782,  18349,  21291,  24162,  26508,  52464,  74708,  77927,\n       111840, 163162])"
     },
     "metadata": {},
     "execution_count": 86
    }
   ],
   "source": [
    "nutrition_random_10.index.to_numpy()"
   ]
  },
  {
   "cell_type": "code",
   "execution_count": 87,
   "metadata": {},
   "outputs": [],
   "source": [
    "nutrition_user_recipes_fat = nutrition_db2[nutrition_db2.index.isin(user_recipes_fat.index.to_numpy())]"
   ]
  },
  {
   "cell_type": "code",
   "execution_count": 88,
   "metadata": {},
   "outputs": [],
   "source": [
    "nutrition_user_recipes_fat = nutrition_user_recipes_fat[['Calories', 'Fat', 'Protein', 'Carbohydrates', 'Dietary Fiber', 'Iron', 'Calcium', 'Magnesium' ]]"
   ]
  },
  {
   "cell_type": "code",
   "execution_count": 89,
   "metadata": {},
   "outputs": [
    {
     "output_type": "execute_result",
     "data": {
      "text/plain": "name   Calories   Fat  Protein  Carbohydrates  Dietary Fiber  Iron  Calcium  \\\ncount     10.00 10.00    10.00          10.00          10.00 10.00    10.00   \nmean     601.26 37.14    32.71          34.18           3.45  3.54   322.90   \nstd       94.67  1.30    12.12          16.57           1.97  1.00   186.45   \nmin      481.47 35.04    16.83          12.24           0.64  1.36    65.01   \n25%      514.65 36.38    24.73          18.64           2.30  3.03   204.59   \n50%      606.23 36.65    30.65          33.28           2.74  3.78   322.06   \n75%      681.18 38.01    39.36          50.31           4.62  4.19   401.17   \nmax      728.84 39.27    52.23          55.31           6.82  4.58   599.82   \n\nname   Magnesium  \ncount      10.00  \nmean       61.13  \nstd        30.91  \nmin        29.87  \n25%        36.70  \n50%        54.90  \n75%        67.54  \nmax       123.06  ",
      "text/html": "<div>\n<style scoped>\n    .dataframe tbody tr th:only-of-type {\n        vertical-align: middle;\n    }\n\n    .dataframe tbody tr th {\n        vertical-align: top;\n    }\n\n    .dataframe thead th {\n        text-align: right;\n    }\n</style>\n<table border=\"1\" class=\"dataframe\">\n  <thead>\n    <tr style=\"text-align: right;\">\n      <th>name</th>\n      <th>Calories</th>\n      <th>Fat</th>\n      <th>Protein</th>\n      <th>Carbohydrates</th>\n      <th>Dietary Fiber</th>\n      <th>Iron</th>\n      <th>Calcium</th>\n      <th>Magnesium</th>\n    </tr>\n  </thead>\n  <tbody>\n    <tr>\n      <td>count</td>\n      <td>10.00</td>\n      <td>10.00</td>\n      <td>10.00</td>\n      <td>10.00</td>\n      <td>10.00</td>\n      <td>10.00</td>\n      <td>10.00</td>\n      <td>10.00</td>\n    </tr>\n    <tr>\n      <td>mean</td>\n      <td>601.26</td>\n      <td>37.14</td>\n      <td>32.71</td>\n      <td>34.18</td>\n      <td>3.45</td>\n      <td>3.54</td>\n      <td>322.90</td>\n      <td>61.13</td>\n    </tr>\n    <tr>\n      <td>std</td>\n      <td>94.67</td>\n      <td>1.30</td>\n      <td>12.12</td>\n      <td>16.57</td>\n      <td>1.97</td>\n      <td>1.00</td>\n      <td>186.45</td>\n      <td>30.91</td>\n    </tr>\n    <tr>\n      <td>min</td>\n      <td>481.47</td>\n      <td>35.04</td>\n      <td>16.83</td>\n      <td>12.24</td>\n      <td>0.64</td>\n      <td>1.36</td>\n      <td>65.01</td>\n      <td>29.87</td>\n    </tr>\n    <tr>\n      <td>25%</td>\n      <td>514.65</td>\n      <td>36.38</td>\n      <td>24.73</td>\n      <td>18.64</td>\n      <td>2.30</td>\n      <td>3.03</td>\n      <td>204.59</td>\n      <td>36.70</td>\n    </tr>\n    <tr>\n      <td>50%</td>\n      <td>606.23</td>\n      <td>36.65</td>\n      <td>30.65</td>\n      <td>33.28</td>\n      <td>2.74</td>\n      <td>3.78</td>\n      <td>322.06</td>\n      <td>54.90</td>\n    </tr>\n    <tr>\n      <td>75%</td>\n      <td>681.18</td>\n      <td>38.01</td>\n      <td>39.36</td>\n      <td>50.31</td>\n      <td>4.62</td>\n      <td>4.19</td>\n      <td>401.17</td>\n      <td>67.54</td>\n    </tr>\n    <tr>\n      <td>max</td>\n      <td>728.84</td>\n      <td>39.27</td>\n      <td>52.23</td>\n      <td>55.31</td>\n      <td>6.82</td>\n      <td>4.58</td>\n      <td>599.82</td>\n      <td>123.06</td>\n    </tr>\n  </tbody>\n</table>\n</div>"
     },
     "metadata": {},
     "execution_count": 89
    }
   ],
   "source": [
    "nutrition_user_recipes_fat.describe()"
   ]
  },
  {
   "cell_type": "code",
   "execution_count": 90,
   "metadata": {},
   "outputs": [],
   "source": [
    "nutrition_jaccard_fat = nutrition_db2[nutrition_db2.index.isin(result_w_filter_10_fat[0:10].index.to_numpy())]"
   ]
  },
  {
   "cell_type": "code",
   "execution_count": 91,
   "metadata": {},
   "outputs": [],
   "source": [
    "nutrition_jaccard_fat = nutrition_jaccard_fat[['Calories', 'Fat', 'Protein', 'Carbohydrates', 'Dietary Fiber', 'Iron', 'Calcium', 'Magnesium' ]]"
   ]
  },
  {
   "cell_type": "code",
   "execution_count": 92,
   "metadata": {},
   "outputs": [
    {
     "output_type": "execute_result",
     "data": {
      "text/plain": "name   Calories   Fat  Protein  Carbohydrates  Dietary Fiber  Iron  Calcium  \\\ncount     10.00 10.00    10.00          10.00          10.00 10.00    10.00   \nmean     570.74 35.18    31.38          32.84           3.73  3.44   389.92   \nstd      216.69 17.37    10.31          15.20           2.29  1.51   210.14   \nmin      286.68 12.44    19.55           6.76           0.42  1.34   163.86   \n25%      395.82 20.95    26.17          28.43           2.31  2.53   262.84   \n50%      553.77 34.44    29.92          30.97           3.61  3.11   344.69   \n75%      697.41 45.21    35.07          38.64           5.05  4.43   440.99   \nmax      978.25 69.10    55.09          58.86           8.20  5.84   918.70   \n\nname   Magnesium  \ncount      10.00  \nmean       62.67  \nstd        20.68  \nmin        31.31  \n25%        49.87  \n50%        57.99  \n75%        76.13  \nmax        99.35  ",
      "text/html": "<div>\n<style scoped>\n    .dataframe tbody tr th:only-of-type {\n        vertical-align: middle;\n    }\n\n    .dataframe tbody tr th {\n        vertical-align: top;\n    }\n\n    .dataframe thead th {\n        text-align: right;\n    }\n</style>\n<table border=\"1\" class=\"dataframe\">\n  <thead>\n    <tr style=\"text-align: right;\">\n      <th>name</th>\n      <th>Calories</th>\n      <th>Fat</th>\n      <th>Protein</th>\n      <th>Carbohydrates</th>\n      <th>Dietary Fiber</th>\n      <th>Iron</th>\n      <th>Calcium</th>\n      <th>Magnesium</th>\n    </tr>\n  </thead>\n  <tbody>\n    <tr>\n      <td>count</td>\n      <td>10.00</td>\n      <td>10.00</td>\n      <td>10.00</td>\n      <td>10.00</td>\n      <td>10.00</td>\n      <td>10.00</td>\n      <td>10.00</td>\n      <td>10.00</td>\n    </tr>\n    <tr>\n      <td>mean</td>\n      <td>570.74</td>\n      <td>35.18</td>\n      <td>31.38</td>\n      <td>32.84</td>\n      <td>3.73</td>\n      <td>3.44</td>\n      <td>389.92</td>\n      <td>62.67</td>\n    </tr>\n    <tr>\n      <td>std</td>\n      <td>216.69</td>\n      <td>17.37</td>\n      <td>10.31</td>\n      <td>15.20</td>\n      <td>2.29</td>\n      <td>1.51</td>\n      <td>210.14</td>\n      <td>20.68</td>\n    </tr>\n    <tr>\n      <td>min</td>\n      <td>286.68</td>\n      <td>12.44</td>\n      <td>19.55</td>\n      <td>6.76</td>\n      <td>0.42</td>\n      <td>1.34</td>\n      <td>163.86</td>\n      <td>31.31</td>\n    </tr>\n    <tr>\n      <td>25%</td>\n      <td>395.82</td>\n      <td>20.95</td>\n      <td>26.17</td>\n      <td>28.43</td>\n      <td>2.31</td>\n      <td>2.53</td>\n      <td>262.84</td>\n      <td>49.87</td>\n    </tr>\n    <tr>\n      <td>50%</td>\n      <td>553.77</td>\n      <td>34.44</td>\n      <td>29.92</td>\n      <td>30.97</td>\n      <td>3.61</td>\n      <td>3.11</td>\n      <td>344.69</td>\n      <td>57.99</td>\n    </tr>\n    <tr>\n      <td>75%</td>\n      <td>697.41</td>\n      <td>45.21</td>\n      <td>35.07</td>\n      <td>38.64</td>\n      <td>5.05</td>\n      <td>4.43</td>\n      <td>440.99</td>\n      <td>76.13</td>\n    </tr>\n    <tr>\n      <td>max</td>\n      <td>978.25</td>\n      <td>69.10</td>\n      <td>55.09</td>\n      <td>58.86</td>\n      <td>8.20</td>\n      <td>5.84</td>\n      <td>918.70</td>\n      <td>99.35</td>\n    </tr>\n  </tbody>\n</table>\n</div>"
     },
     "metadata": {},
     "execution_count": 92
    }
   ],
   "source": [
    "nutrition_jaccard_fat.describe()"
   ]
  }
 ],
 "metadata": {
  "language_info": {
   "name": "python",
   "codemirror_mode": {
    "name": "ipython",
    "version": 3
   },
   "version": "3.7.7-final"
  },
  "orig_nbformat": 2,
  "file_extension": ".py",
  "mimetype": "text/x-python",
  "name": "python",
  "npconvert_exporter": "python",
  "pygments_lexer": "ipython3",
  "version": 3,
  "kernelspec": {
   "name": "python3",
   "display_name": "Python 3"
  }
 },
 "nbformat": 4,
 "nbformat_minor": 2
}